{
 "cells": [
  {
   "cell_type": "code",
   "execution_count": null,
   "metadata": {},
   "outputs": [],
   "source": [
    "# CREACIÓN DE LA BASE DE DATOS"
   ]
  },
  {
   "cell_type": "code",
   "execution_count": 1,
   "metadata": {},
   "outputs": [
    {
     "name": "stdout",
     "output_type": "stream",
     "text": [
      "CMySQLCursor: CREATE DATABASE mi_primerita_BBDD_Python\n"
     ]
    }
   ],
   "source": [
    "import mysql.connector\n",
    "\n",
    "cnx = mysql.connector.connect(user='root', password='AlumnaAdalab',\n",
    "                              host='127.0.0.1')\n",
    "\n",
    "\n",
    "mycursor = cnx.cursor()\n",
    "try:\n",
    "    mycursor.execute(\"CREATE DATABASE mi_primerita_BBDD_Python\")\n",
    "    print(mycursor)\n",
    "except mysql.connector.Error as err:\n",
    "    print(err)\n",
    "    print(\"Error Code:\", err.errno)\n",
    "    print(\"SQLSTATE\", err.sqlstate)\n",
    "    print(\"Message\", err.msg)"
   ]
  },
  {
   "cell_type": "code",
   "execution_count": null,
   "metadata": {},
   "outputs": [],
   "source": [
    "# DEFINIR FUNCION CREAR TABLA"
   ]
  },
  {
   "cell_type": "code",
   "execution_count": 3,
   "metadata": {},
   "outputs": [],
   "source": [
    "def create_table(psw,query):\n",
    "\n",
    "    cnx = mysql.connector.connect(user='root', password= psw, host='127.0.0.1', database= 'mi_primerita_BBDD_Python')\n",
    "                              \n",
    "    mycursor= cnx.cursor()\n",
    "    try:\n",
    "        mycursor.execute(query)\n",
    "        print(mycursor)\n",
    "\n",
    "    except mysql.connector.Error as err:\n",
    "        print(err)\n",
    "        print(\"error code:\", err.errno)\n",
    "        print(\"SQLSTATE\", err.sqlstate)\n",
    "        print(\"message\", err.msg)\n"
   ]
  },
  {
   "cell_type": "code",
   "execution_count": 4,
   "metadata": {},
   "outputs": [],
   "source": [
    "query_zapatillas= '''CREATE TABLE zapatillas(\n",
    "id_zapatilla INT AUTO_INCREMENT NOT NULL,\n",
    "modelo VARCHAR (45) NOT NULL,\n",
    "color VARCHAR (45) NOT NULL,\n",
    "PRIMARY KEY (id_zapatilla)\n",
    ")'''"
   ]
  },
  {
   "cell_type": "code",
   "execution_count": 5,
   "metadata": {},
   "outputs": [],
   "source": [
    "query_clientes= ''' CREATE TABLE clientes(\n",
    " id_cliente INT AUTO_INCREMENT NOT NULL,\n",
    " nombre VARCHAR (45) NOT NULL,\n",
    " numero_telefono INT (9) NOT NULL, \n",
    " email VARCHAR (45) NOT NULL,\n",
    " direccion VARCHAR (45) NOT NULL,\n",
    " ciudad VARCHAR (45) NULL,\n",
    " provincia VARCHAR (45) NOT NULL,\n",
    " pais VARCHAR (45) NOT NULL,\n",
    " codigo_postal VARCHAR (45) NOT NULL,\n",
    " PRIMARY KEY (id_cliente)\n",
    ")'''"
   ]
  },
  {
   "cell_type": "code",
   "execution_count": 8,
   "metadata": {},
   "outputs": [],
   "source": [
    "query_empleados= '''CREATE TABLE empleados(\n",
    "id_empleado INT AUTO_INCREMENT NOT NULL,\n",
    "nombre VARCHAR (45) NOT NULL,\n",
    "tienda VARCHAR (45) NOT NULL,\n",
    "salario INT NULL,\n",
    "fecha_incorporacion DATE NOT NULL,\n",
    "PRIMARY KEY (id_empleado)\n",
    ")'''"
   ]
  },
  {
   "cell_type": "code",
   "execution_count": 16,
   "metadata": {},
   "outputs": [],
   "source": [
    "query_facturas= '''CREATE TABLE IF NOT EXISTS facturas(\n",
    "id_factura INT AUTO_INCREMENT NOT NULL,\n",
    "numero_factura VARCHAR (45) NOT NULL,\n",
    "fecha DATE NOT NULL,\n",
    "id_zapatilla INT NOT NULL,\n",
    "id_empleado INT NOT NULL,\n",
    "id_cliente INT NOT NULL,\n",
    "PRIMARY KEY (id_factura),\n",
    "CONSTRAINT fk_facturas_zapatillas\n",
    "\tFOREIGN KEY (id_zapatilla)\n",
    "\tREFERENCES zapatillas (id_zapatilla),\n",
    "CONSTRAINT fk_facturas_empleados\n",
    "\tFOREIGN KEY (id_empleado)\n",
    "    REFERENCES empleados (id_empleado),\n",
    "CONSTRAINT fk_facturas_clientes\n",
    "\tFOREIGN KEY (id_cliente)\n",
    "    REFERENCES clientes (id_cliente))'''"
   ]
  },
  {
   "cell_type": "code",
   "execution_count": 10,
   "metadata": {},
   "outputs": [
    {
     "name": "stdout",
     "output_type": "stream",
     "text": [
      "CMySQLCursor: CREATE TABLE zapatillas(\n",
      "id_zapatilla IN..\n"
     ]
    }
   ],
   "source": [
    "create_table (\"AlumnaAdalab\",query_zapatillas)"
   ]
  },
  {
   "cell_type": "code",
   "execution_count": 11,
   "metadata": {},
   "outputs": [
    {
     "name": "stdout",
     "output_type": "stream",
     "text": [
      "CMySQLCursor:  CREATE TABLE clientes(\n",
      " id_cliente INT ..\n"
     ]
    }
   ],
   "source": [
    "create_table (\"AlumnaAdalab\", query_clientes)"
   ]
  },
  {
   "cell_type": "code",
   "execution_count": 17,
   "metadata": {},
   "outputs": [
    {
     "name": "stdout",
     "output_type": "stream",
     "text": [
      "1050 (42S01): Table 'empleados' already exists\n",
      "error code: 1050\n",
      "SQLSTATE 42S01\n",
      "message Table 'empleados' already exists\n"
     ]
    }
   ],
   "source": [
    "create_table (\"AlumnaAdalab\",query_empleados)"
   ]
  },
  {
   "cell_type": "code",
   "execution_count": 18,
   "metadata": {},
   "outputs": [
    {
     "name": "stdout",
     "output_type": "stream",
     "text": [
      "CMySQLCursor: CREATE TABLE IF NOT EXISTS facturas(\n",
      "id_..\n"
     ]
    }
   ],
   "source": [
    "create_table (\"AlumnaAdalab\",query_facturas)"
   ]
  },
  {
   "cell_type": "code",
   "execution_count": 33,
   "metadata": {},
   "outputs": [],
   "source": [
    "#CREACIÓN FUNCIÓN ALTER TABLE"
   ]
  },
  {
   "cell_type": "code",
   "execution_count": 22,
   "metadata": {},
   "outputs": [],
   "source": [
    "def alter_table (psw, query):\n",
    "\n",
    "    cnx = mysql.connector.connect(user='root', password= psw,\n",
    "                                host='127.0.0.1', database='mi_primerita_BBDD_Python')\n",
    "\n",
    "\n",
    "    mycursor = cnx.cursor()\n",
    "    try:\n",
    "        mycursor.execute(query)\n",
    "        print(mycursor)\n",
    "    except mysql.connector.Error as err:\n",
    "        print(err)\n",
    "        print(\"Error Code:\", err.errno)\n",
    "        print(\"SQLSTATE\", err.sqlstate)\n",
    "        print(\"Message\", err.msg)"
   ]
  },
  {
   "cell_type": "code",
   "execution_count": 25,
   "metadata": {},
   "outputs": [],
   "source": [
    "query1= '''ALTER TABLE `zapatillas`\n",
    "ADD COLUMN marca VARCHAR (45) NOT NULL,\n",
    "ADD COLUMN talla INT NOT NULL;'''\n",
    "\n",
    "query2= '''ALTER TABLE `empleados`\n",
    "MODIFY COLUMN salario FLOAT;'''\n",
    "\n",
    "query3= '''ALTER TABLE `clientes`\n",
    "DROP COLUMN pais;'''\n",
    "\n",
    "query4= '''ALTER TABLE `clientes`\n",
    "MODIFY COLUMN codigo_postal INT (5);'''\n",
    "\n",
    "query5= '''ALTER TABLE `facturas`\n",
    "ADD COLUMN total_factura FLOAT;'''"
   ]
  },
  {
   "cell_type": "code",
   "execution_count": 26,
   "metadata": {},
   "outputs": [
    {
     "name": "stdout",
     "output_type": "stream",
     "text": [
      "CMySQLCursor: ALTER TABLE `zapatillas`\n",
      "ADD COLUMN marc..\n"
     ]
    }
   ],
   "source": [
    "alter_table ('AlumnaAdalab', query1)"
   ]
  },
  {
   "cell_type": "code",
   "execution_count": 27,
   "metadata": {},
   "outputs": [
    {
     "name": "stdout",
     "output_type": "stream",
     "text": [
      "CMySQLCursor: ALTER TABLE `empleados`\n",
      "MODIFY COLUMN sa..\n"
     ]
    }
   ],
   "source": [
    "alter_table ('AlumnaAdalab', query2)"
   ]
  },
  {
   "cell_type": "code",
   "execution_count": 28,
   "metadata": {},
   "outputs": [
    {
     "name": "stdout",
     "output_type": "stream",
     "text": [
      "CMySQLCursor: ALTER TABLE `clientes`\n",
      "DROP COLUMN pais;\n"
     ]
    }
   ],
   "source": [
    "alter_table ('AlumnaAdalab', query3)"
   ]
  },
  {
   "cell_type": "code",
   "execution_count": 29,
   "metadata": {},
   "outputs": [
    {
     "name": "stdout",
     "output_type": "stream",
     "text": [
      "CMySQLCursor: ALTER TABLE `clientes`\n",
      "MODIFY COLUMN cod..\n"
     ]
    }
   ],
   "source": [
    "alter_table ('AlumnaAdalab', query4)"
   ]
  },
  {
   "cell_type": "code",
   "execution_count": 30,
   "metadata": {},
   "outputs": [
    {
     "name": "stdout",
     "output_type": "stream",
     "text": [
      "CMySQLCursor: ALTER TABLE `facturas`\n",
      "ADD COLUMN total_..\n"
     ]
    }
   ],
   "source": [
    "alter_table ('AlumnaAdalab', query5)"
   ]
  }
 ],
 "metadata": {
  "kernelspec": {
   "display_name": "Python 3.9.7 ('base')",
   "language": "python",
   "name": "python3"
  },
  "language_info": {
   "codemirror_mode": {
    "name": "ipython",
    "version": 3
   },
   "file_extension": ".py",
   "mimetype": "text/x-python",
   "name": "python",
   "nbconvert_exporter": "python",
   "pygments_lexer": "ipython3",
   "version": "3.9.7"
  },
  "orig_nbformat": 4,
  "vscode": {
   "interpreter": {
    "hash": "0620710c65b0f5ccc651a2aa8870ae0eb4c70492424a8d7866846658189426a3"
   }
  }
 },
 "nbformat": 4,
 "nbformat_minor": 2
}
