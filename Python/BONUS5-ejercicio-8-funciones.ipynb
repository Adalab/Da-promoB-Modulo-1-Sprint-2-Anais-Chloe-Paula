{
 "cells": [
  {
   "cell_type": "markdown",
   "metadata": {},
   "source": [
    "# BONUS 5.\n",
    " Escribid una función que va a ser una calculadora. La lista recibirá dos parámetros, una lista de números y un string con la operación que queremos hacer (puede ser \"*\", \"+\")\n",
    " ``` \n",
    "Probad con los siguientes inputs\n",
    "\n",
    "lista1 = [11, 6, 98, 1, 2] , \"*\"\n",
    "RESULTADO 12936\n",
    "\n",
    "-----------------------------------\n",
    "lista2 = [23,34, 56, 11, 90] , \"+\"\n",
    "RESULTADO 214\n",
    "\n",
    "-----------------------------------\n",
    "lista3 = [23, 4,109 , 94, 77] , \"-\"\n",
    "RESULTADO 'Lo siento, necesito que me pases una operación valida.'"
   ]
  },
  {
   "cell_type": "code",
   "execution_count": null,
   "metadata": {},
   "outputs": [],
   "source": [
    "# ideas:\n",
    "# sumar args, pero ¿como se hace? args + args\n",
    "# join con el simbolo del input y pasar a int\n",
    "# iterar por la lista y operar"
   ]
  },
  {
   "cell_type": "code",
   "execution_count": 12,
   "metadata": {},
   "outputs": [],
   "source": [
    "# idea 1\n",
    "def calculadora (*args):\n",
    "    inputusr= input('¿Qué operación deseas realizar? Escribe: + , - , * , /')\n",
    "    result = 0\n",
    "    if inputusr == '+':\n",
    "        for arg in args:\n",
    "            result+= arg\n",
    "    elif inputusr == '-':\n",
    "        for arg in args:\n",
    "            result-= arg\n",
    "            if result < 0:\n",
    "                print('Valor negativo: Introduce una operación válida')\n",
    "    elif inputusr == '*':\n",
    "        for arg in args:\n",
    "            result*= arg\n",
    "    elif inputusr == '/':\n",
    "        for arg in args:\n",
    "            result/= arg\n",
    "    return result\n",
    "            \n"
   ]
  },
  {
   "cell_type": "code",
   "execution_count": 1,
   "metadata": {},
   "outputs": [],
   "source": [
    "lista1 = [11, 6, 98, 1, 2]"
   ]
  },
  {
   "cell_type": "code",
   "execution_count": 2,
   "metadata": {},
   "outputs": [],
   "source": [
    "lista2 = [23,34, 56, 11, 90]"
   ]
  },
  {
   "cell_type": "code",
   "execution_count": 3,
   "metadata": {},
   "outputs": [],
   "source": [
    "lista3 = [23, 4,109 , 94, 77] "
   ]
  },
  {
   "cell_type": "code",
   "execution_count": 13,
   "metadata": {},
   "outputs": [
    {
     "ename": "UnboundLocalError",
     "evalue": "local variable 'input' referenced before assignment",
     "output_type": "error",
     "traceback": [
      "\u001b[0;31m---------------------------------------------------------------------------\u001b[0m",
      "\u001b[0;31mUnboundLocalError\u001b[0m                         Traceback (most recent call last)",
      "\u001b[0;32m/tmp/ipykernel_1053/345116838.py\u001b[0m in \u001b[0;36m<module>\u001b[0;34m\u001b[0m\n\u001b[0;32m----> 1\u001b[0;31m \u001b[0mcalculadora\u001b[0m\u001b[0;34m(\u001b[0m\u001b[0;34m*\u001b[0m\u001b[0mlista1\u001b[0m\u001b[0;34m)\u001b[0m\u001b[0;34m\u001b[0m\u001b[0;34m\u001b[0m\u001b[0m\n\u001b[0m",
      "\u001b[0;32m/tmp/ipykernel_1053/1138557148.py\u001b[0m in \u001b[0;36mcalculadora\u001b[0;34m(*args)\u001b[0m\n\u001b[1;32m      1\u001b[0m \u001b[0;31m# idea 1\u001b[0m\u001b[0;34m\u001b[0m\u001b[0;34m\u001b[0m\u001b[0m\n\u001b[1;32m      2\u001b[0m \u001b[0;32mdef\u001b[0m \u001b[0mcalculadora\u001b[0m \u001b[0;34m(\u001b[0m\u001b[0;34m*\u001b[0m\u001b[0margs\u001b[0m\u001b[0;34m)\u001b[0m\u001b[0;34m:\u001b[0m\u001b[0;34m\u001b[0m\u001b[0;34m\u001b[0m\u001b[0m\n\u001b[0;32m----> 3\u001b[0;31m     \u001b[0minput\u001b[0m\u001b[0;34m=\u001b[0m \u001b[0minput\u001b[0m\u001b[0;34m(\u001b[0m\u001b[0;34m'¿Qué operación deseas realizar? Escribe: + , - , * , /'\u001b[0m\u001b[0;34m)\u001b[0m\u001b[0;34m\u001b[0m\u001b[0;34m\u001b[0m\u001b[0m\n\u001b[0m\u001b[1;32m      4\u001b[0m     \u001b[0mresult\u001b[0m \u001b[0;34m=\u001b[0m \u001b[0;36m0\u001b[0m\u001b[0;34m\u001b[0m\u001b[0;34m\u001b[0m\u001b[0m\n\u001b[1;32m      5\u001b[0m     \u001b[0;32mif\u001b[0m \u001b[0minput\u001b[0m \u001b[0;34m==\u001b[0m \u001b[0;34m'+'\u001b[0m\u001b[0;34m:\u001b[0m\u001b[0;34m\u001b[0m\u001b[0;34m\u001b[0m\u001b[0m\n",
      "\u001b[0;31mUnboundLocalError\u001b[0m: local variable 'input' referenced before assignment"
     ]
    }
   ],
   "source": [
    "calculadora(*lista1)"
   ]
  },
  {
   "cell_type": "code",
   "execution_count": null,
   "metadata": {},
   "outputs": [],
   "source": [
    "#por algun motivo me lee el input() como una variable... voy a probar mas simple, como si fuera una lista\n",
    "# Mas abajo he resuleto el tema del input, era una tontería"
   ]
  },
  {
   "cell_type": "code",
   "execution_count": 14,
   "metadata": {},
   "outputs": [],
   "source": [
    "# idea 3\n",
    "def calculadora (lista):\n",
    "    inputusr= input('¿Qué operación deseas realizar? Escribe: + , - , * , /')\n",
    "    result = 0\n",
    "    if inputusr == '+':\n",
    "        for i in lista:\n",
    "            result+= i\n",
    "    elif inputusr == '-':\n",
    "        for i in lista:\n",
    "            result-= i\n",
    "            if result < 0:\n",
    "                print('Valor negativo: Introduce una operación válida')\n",
    "    elif inputusr == '*':\n",
    "        for i in lista:\n",
    "            result*= i\n",
    "    elif inputusr == '/':\n",
    "        for i in lista:\n",
    "            result/= i\n",
    "    return result"
   ]
  },
  {
   "cell_type": "code",
   "execution_count": 15,
   "metadata": {},
   "outputs": [
    {
     "ename": "UnboundLocalError",
     "evalue": "local variable 'input' referenced before assignment",
     "output_type": "error",
     "traceback": [
      "\u001b[0;31m---------------------------------------------------------------------------\u001b[0m",
      "\u001b[0;31mUnboundLocalError\u001b[0m                         Traceback (most recent call last)",
      "\u001b[0;32m/tmp/ipykernel_1053/664840032.py\u001b[0m in \u001b[0;36m<module>\u001b[0;34m\u001b[0m\n\u001b[0;32m----> 1\u001b[0;31m \u001b[0mcalculadora\u001b[0m\u001b[0;34m(\u001b[0m\u001b[0mlista1\u001b[0m\u001b[0;34m)\u001b[0m\u001b[0;34m\u001b[0m\u001b[0;34m\u001b[0m\u001b[0m\n\u001b[0m",
      "\u001b[0;32m/tmp/ipykernel_1053/2871170377.py\u001b[0m in \u001b[0;36mcalculadora\u001b[0;34m(lista)\u001b[0m\n\u001b[1;32m      1\u001b[0m \u001b[0;31m# idea 3\u001b[0m\u001b[0;34m\u001b[0m\u001b[0;34m\u001b[0m\u001b[0m\n\u001b[1;32m      2\u001b[0m \u001b[0;32mdef\u001b[0m \u001b[0mcalculadora\u001b[0m \u001b[0;34m(\u001b[0m\u001b[0mlista\u001b[0m\u001b[0;34m)\u001b[0m\u001b[0;34m:\u001b[0m\u001b[0;34m\u001b[0m\u001b[0;34m\u001b[0m\u001b[0m\n\u001b[0;32m----> 3\u001b[0;31m     \u001b[0minput\u001b[0m\u001b[0;34m=\u001b[0m \u001b[0minput\u001b[0m\u001b[0;34m(\u001b[0m\u001b[0;34m'¿Qué operación deseas realizar? Escribe: + , - , * , /'\u001b[0m\u001b[0;34m)\u001b[0m\u001b[0;34m\u001b[0m\u001b[0;34m\u001b[0m\u001b[0m\n\u001b[0m\u001b[1;32m      4\u001b[0m     \u001b[0mresult\u001b[0m \u001b[0;34m=\u001b[0m \u001b[0;36m0\u001b[0m\u001b[0;34m\u001b[0m\u001b[0;34m\u001b[0m\u001b[0m\n\u001b[1;32m      5\u001b[0m     \u001b[0;32mif\u001b[0m \u001b[0minput\u001b[0m \u001b[0;34m==\u001b[0m \u001b[0;34m'+'\u001b[0m\u001b[0;34m:\u001b[0m\u001b[0;34m\u001b[0m\u001b[0;34m\u001b[0m\u001b[0m\n",
      "\u001b[0;31mUnboundLocalError\u001b[0m: local variable 'input' referenced before assignment"
     ]
    }
   ],
   "source": [
    "calculadora(lista1)"
   ]
  },
  {
   "cell_type": "code",
   "execution_count": null,
   "metadata": {},
   "outputs": [],
   "source": [
    "#mismo error, voy a probar fuera de la funcion"
   ]
  },
  {
   "cell_type": "code",
   "execution_count": 4,
   "metadata": {},
   "outputs": [],
   "source": [
    "\n",
    "inputusr = input('¿Qué operación deseas realizar? Escribe: + , - , * , /')\n",
    "result = 0\n",
    "if inputusr == '+':\n",
    "    for i in lista1:\n",
    "        result+= i\n",
    "elif inputusr == '-':\n",
    "    for i in lista1:\n",
    "        result-= i\n",
    "        if result < 0:\n",
    "            print('Valor negativo: Introduce una operación válida')\n",
    "elif inputusr == '*':\n",
    "    cont = 0\n",
    "\n",
    "    for i in range(1, len(lista1)):\n",
    "        result = lista1[cont] * lista1[cont + i]\n",
    "elif inputusr == '/':\n",
    "    for i in lista1:\n",
    "        result/= i"
   ]
  },
  {
   "cell_type": "code",
   "execution_count": 5,
   "metadata": {},
   "outputs": [
    {
     "data": {
      "text/plain": [
       "0"
      ]
     },
     "execution_count": 5,
     "metadata": {},
     "output_type": "execute_result"
    }
   ],
   "source": [
    "result  # da cero porque le he pedido multiplicar, y multiplicar por el 0 que era result da 0"
   ]
  },
  {
   "cell_type": "code",
   "execution_count": null,
   "metadata": {},
   "outputs": [],
   "source": [
    "# pruebo con la multiplicacion a parte\n",
    "lista1 = [11, 6, 98, 1, 2]"
   ]
  },
  {
   "cell_type": "code",
   "execution_count": 13,
   "metadata": {},
   "outputs": [
    {
     "data": {
      "text/plain": [
       "51744"
      ]
     },
     "execution_count": 13,
     "metadata": {},
     "output_type": "execute_result"
    }
   ],
   "source": [
    "# Esto no funciona...\n",
    "result *= 1\n",
    "result"
   ]
  },
  {
   "cell_type": "code",
   "execution_count": 14,
   "metadata": {},
   "outputs": [],
   "source": [
    "# pruebo así, pongo len-1 porque sino me dice que me salgo del rango, ya que estoy empezando en el result con uno de los elementos de la lista.\n",
    "cont = 0\n",
    "result = lista1[cont]\n",
    "\n",
    "while cont < len(lista1)-1:\n",
    "    cont+= 1\n",
    "    result = result * lista1[cont]\n",
    "     "
   ]
  },
  {
   "cell_type": "code",
   "execution_count": 15,
   "metadata": {},
   "outputs": [
    {
     "data": {
      "text/plain": [
       "12936"
      ]
     },
     "execution_count": 15,
     "metadata": {},
     "output_type": "execute_result"
    }
   ],
   "source": [
    "result   # funciona!"
   ]
  },
  {
   "cell_type": "code",
   "execution_count": 16,
   "metadata": {},
   "outputs": [
    {
     "ename": "TypeError",
     "evalue": "'str' object is not callable",
     "output_type": "error",
     "traceback": [
      "\u001b[0;31m---------------------------------------------------------------------------\u001b[0m",
      "\u001b[0;31mTypeError\u001b[0m                                 Traceback (most recent call last)",
      "\u001b[0;32m/tmp/ipykernel_1254/2392880400.py\u001b[0m in \u001b[0;36m<module>\u001b[0;34m\u001b[0m\n\u001b[0;32m----> 1\u001b[0;31m \u001b[0minput\u001b[0m \u001b[0;34m=\u001b[0m \u001b[0minput\u001b[0m\u001b[0;34m(\u001b[0m\u001b[0;34m'¿Qué operación deseas realizar? Escribe: + , - , * , /'\u001b[0m\u001b[0;34m)\u001b[0m  \u001b[0;31m# no se por que input me la sigue considerando variable... a veces me está funcionando o no.\u001b[0m\u001b[0;34m\u001b[0m\u001b[0;34m\u001b[0m\u001b[0m\n\u001b[0m\u001b[1;32m      2\u001b[0m \u001b[0;34m\u001b[0m\u001b[0m\n\u001b[1;32m      3\u001b[0m \u001b[0;32mif\u001b[0m \u001b[0minput\u001b[0m \u001b[0;34m==\u001b[0m \u001b[0;34m'+'\u001b[0m\u001b[0;34m:\u001b[0m\u001b[0;34m\u001b[0m\u001b[0;34m\u001b[0m\u001b[0m\n\u001b[1;32m      4\u001b[0m     \u001b[0mresult\u001b[0m \u001b[0;34m=\u001b[0m \u001b[0;36m0\u001b[0m\u001b[0;34m\u001b[0m\u001b[0;34m\u001b[0m\u001b[0m\n\u001b[1;32m      5\u001b[0m     \u001b[0;32mfor\u001b[0m \u001b[0mi\u001b[0m \u001b[0;32min\u001b[0m \u001b[0mlista1\u001b[0m\u001b[0;34m:\u001b[0m\u001b[0;34m\u001b[0m\u001b[0;34m\u001b[0m\u001b[0m\n",
      "\u001b[0;31mTypeError\u001b[0m: 'str' object is not callable"
     ]
    }
   ],
   "source": [
    "inputusr = input('¿Qué operación deseas realizar? Escribe: + , - , * , /')  # no se por que input me la sigue considerando variable... a veces me está funcionando o no.\n",
    "\n",
    "if inputusr == '+':\n",
    "    result = 0\n",
    "    for i in lista1:\n",
    "        result+= i\n",
    "        \n",
    "elif inputusr == '-':\n",
    "    cont = 0\n",
    "    result = lista1[cont]\n",
    "\n",
    "    while cont < len(lista1)-1:\n",
    "        cont+= 1\n",
    "        result = result - lista1[cont]\n",
    "\n",
    "        if result < 0:\n",
    "            print('Valor negativo: Introduce una operación válida')\n",
    "\n",
    "elif inputusr == '*':\n",
    "    cont = 0\n",
    "    result = lista1[cont]\n",
    "\n",
    "    while cont < len(lista1)-1:\n",
    "        cont+= 1\n",
    "        result = result * lista1[cont]\n",
    "\n",
    "elif inputusr == '/':\n",
    "    cont = 0\n",
    "    result = lista1[cont]\n",
    "\n",
    "    while cont < len(lista1)-1:\n",
    "        cont+= 1\n",
    "        result = result / lista1[cont]"
   ]
  },
  {
   "cell_type": "code",
   "execution_count": 17,
   "metadata": {},
   "outputs": [
    {
     "ename": "TypeError",
     "evalue": "'str' object is not callable",
     "output_type": "error",
     "traceback": [
      "\u001b[0;31m---------------------------------------------------------------------------\u001b[0m",
      "\u001b[0;31mTypeError\u001b[0m                                 Traceback (most recent call last)",
      "\u001b[0;32m/tmp/ipykernel_1254/332043883.py\u001b[0m in \u001b[0;36m<module>\u001b[0;34m\u001b[0m\n\u001b[1;32m      1\u001b[0m \u001b[0;31m# problemas con el input....\u001b[0m\u001b[0;34m\u001b[0m\u001b[0;34m\u001b[0m\u001b[0m\n\u001b[0;32m----> 2\u001b[0;31m \u001b[0minput\u001b[0m\u001b[0;34m(\u001b[0m\u001b[0;34m'Como te llamas'\u001b[0m\u001b[0;34m)\u001b[0m\u001b[0;34m\u001b[0m\u001b[0;34m\u001b[0m\u001b[0m\n\u001b[0m",
      "\u001b[0;31mTypeError\u001b[0m: 'str' object is not callable"
     ]
    }
   ],
   "source": [
    "# problemas con el input....\n",
    "input('Como te llamas')"
   ]
  },
  {
   "cell_type": "code",
   "execution_count": null,
   "metadata": {},
   "outputs": [],
   "source": [
    "#Reinicio y pruebo"
   ]
  },
  {
   "cell_type": "code",
   "execution_count": 2,
   "metadata": {},
   "outputs": [
    {
     "data": {
      "text/plain": [
       "'Chloe'"
      ]
     },
     "execution_count": 2,
     "metadata": {},
     "output_type": "execute_result"
    }
   ],
   "source": [
    "input('Como te llamas')"
   ]
  },
  {
   "cell_type": "code",
   "execution_count": null,
   "metadata": {},
   "outputs": [],
   "source": [
    "#ahora si funciona pero me la sigue poniendo como variable"
   ]
  },
  {
   "cell_type": "code",
   "execution_count": 3,
   "metadata": {},
   "outputs": [
    {
     "name": "stdout",
     "output_type": "stream",
     "text": [
      "<bound method Kernel.raw_input of <ipykernel.ipkernel.IPythonKernel object at 0x7fe543222f40>>\n"
     ]
    }
   ],
   "source": [
    "input('Tu nombre')\n",
    "print(input)"
   ]
  },
  {
   "cell_type": "code",
   "execution_count": null,
   "metadata": {},
   "outputs": [],
   "source": [
    "# raro.... voy a cerrar y vuelvo a empezar\n",
    "# Era porque al inicio tenía una variable defininda con el nombre input, y creo que python se estaba liando\n",
    "# He cambiado todo a inputusr y ya no se ve el problema que digo jaja!"
   ]
  },
  {
   "cell_type": "code",
   "execution_count": 6,
   "metadata": {},
   "outputs": [],
   "source": [
    "# Añado los returns\n",
    "def calculadora (lista):\n",
    "    inputusr = input('¿Qué operación deseas realizar? Escribe: + , - , * , /') \n",
    "\n",
    "    if inputusr == '+':\n",
    "        result = 0\n",
    "        for i in lista:\n",
    "            result+= i\n",
    "        return result   \n",
    "    elif inputusr == '-':\n",
    "        cont = 0\n",
    "        result = lista[cont]\n",
    "\n",
    "        while cont < len(lista)-1:\n",
    "            cont+= 1\n",
    "            result = result - lista[cont]\n",
    "\n",
    "            if result < 0:\n",
    "                return print('Valor negativo: Introduce una operación válida')\n",
    "            else:\n",
    "                return result\n",
    "\n",
    "    elif inputusr == '*':\n",
    "        cont = 0\n",
    "        result = lista[cont]\n",
    "\n",
    "        while cont < len(lista)-1:\n",
    "            cont+= 1\n",
    "            result = result * lista[cont]\n",
    "        return result\n",
    "\n",
    "    elif inputusr == '/':\n",
    "        cont = 0\n",
    "        result = lista[cont]\n",
    "\n",
    "        while cont < len(lista)-1:\n",
    "            cont+= 1\n",
    "            result = result / lista[cont]\n",
    "        return result"
   ]
  },
  {
   "cell_type": "code",
   "execution_count": 2,
   "metadata": {},
   "outputs": [],
   "source": [
    "lista1 = [11, 6, 98, 1, 2]"
   ]
  },
  {
   "cell_type": "code",
   "execution_count": 3,
   "metadata": {},
   "outputs": [],
   "source": [
    "lista2 = [23,34, 56, 11, 90]"
   ]
  },
  {
   "cell_type": "code",
   "execution_count": 4,
   "metadata": {},
   "outputs": [],
   "source": [
    "lista3 = [23, 4,109 , 94, 77] "
   ]
  },
  {
   "cell_type": "code",
   "execution_count": 7,
   "metadata": {},
   "outputs": [
    {
     "data": {
      "text/plain": [
       "12936"
      ]
     },
     "execution_count": 7,
     "metadata": {},
     "output_type": "execute_result"
    }
   ],
   "source": [
    "# Usando '*'\n",
    "calculadora (lista1)"
   ]
  },
  {
   "cell_type": "code",
   "execution_count": 8,
   "metadata": {},
   "outputs": [
    {
     "data": {
      "text/plain": [
       "214"
      ]
     },
     "execution_count": 8,
     "metadata": {},
     "output_type": "execute_result"
    }
   ],
   "source": [
    "#Usando '+'\n",
    "calculadora(lista2)"
   ]
  },
  {
   "cell_type": "code",
   "execution_count": 9,
   "metadata": {},
   "outputs": [
    {
     "data": {
      "text/plain": [
       "19"
      ]
     },
     "execution_count": 9,
     "metadata": {},
     "output_type": "execute_result"
    }
   ],
   "source": [
    "# esta no va... repaso\n",
    "calculadora(lista3)"
   ]
  },
  {
   "cell_type": "code",
   "execution_count": 10,
   "metadata": {},
   "outputs": [],
   "source": [
    "def calculadora (lista):\n",
    "    inputusr = input('¿Qué operación deseas realizar? Escribe: + , - , * , /') \n",
    "\n",
    "    if inputusr == '+':\n",
    "        result = 0\n",
    "        for i in lista:\n",
    "            result+= i\n",
    "        return result   \n",
    "    elif inputusr == '-':\n",
    "        cont = 0\n",
    "        result = lista[cont]\n",
    "\n",
    "        while cont < len(lista)-1:      \n",
    "            cont+= 1\n",
    "            result = result - lista[cont]\n",
    "\n",
    "        if result < 0:                 # la resta solo se ha hecho entre los primeros dos numeros, eso es porque el return estaba dentro del if, y el if dentro del while\n",
    "            return print('Valor negativo: Introduce una operación válida')\n",
    "        else:\n",
    "            return result\n",
    "\n",
    "    elif inputusr == '*':\n",
    "        cont = 0\n",
    "        result = lista[cont]\n",
    "\n",
    "        while cont < len(lista)-1:\n",
    "            cont+= 1\n",
    "            result = result * lista[cont]\n",
    "        return result\n",
    "\n",
    "    elif inputusr == '/':\n",
    "        cont = 0\n",
    "        result = lista[cont]\n",
    "\n",
    "        while cont < len(lista)-1:\n",
    "            cont+= 1\n",
    "            result = result / lista[cont]\n",
    "        return result"
   ]
  },
  {
   "cell_type": "code",
   "execution_count": 11,
   "metadata": {},
   "outputs": [
    {
     "name": "stdout",
     "output_type": "stream",
     "text": [
      "Valor negativo: Introduce una operación válida\n"
     ]
    }
   ],
   "source": [
    "calculadora(lista3)"
   ]
  },
  {
   "cell_type": "code",
   "execution_count": null,
   "metadata": {},
   "outputs": [],
   "source": [
    "# Bieen! Lo paso a limpio, en el jupyter limpio"
   ]
  },
  {
   "cell_type": "code",
   "execution_count": null,
   "metadata": {},
   "outputs": [],
   "source": [
    "#probando las divisiones"
   ]
  },
  {
   "cell_type": "code",
   "execution_count": 12,
   "metadata": {},
   "outputs": [
    {
     "data": {
      "text/plain": [
       "0.00935374149659864"
      ]
     },
     "execution_count": 12,
     "metadata": {},
     "output_type": "execute_result"
    }
   ],
   "source": [
    "calculadora(lista1)   #ok"
   ]
  }
 ],
 "metadata": {
  "kernelspec": {
   "display_name": "Python 3.9.7 ('base')",
   "language": "python",
   "name": "python3"
  },
  "language_info": {
   "codemirror_mode": {
    "name": "ipython",
    "version": 3
   },
   "file_extension": ".py",
   "mimetype": "text/x-python",
   "name": "python",
   "nbconvert_exporter": "python",
   "pygments_lexer": "ipython3",
   "version": "3.9.7"
  },
  "orig_nbformat": 4,
  "vscode": {
   "interpreter": {
    "hash": "6be5d780ee9b0e6fe20ff9090f4981b24f52f07297829e94136e87c5137905e3"
   }
  }
 },
 "nbformat": 4,
 "nbformat_minor": 2
}
