{
 "cells": [
  {
   "cell_type": "markdown",
   "metadata": {},
   "source": [
    "# Ejercicio 1\n",
    "Cread una función que reciba 2 números enteros en forma de string como entrada, y dé como resultado la suma\n",
    "(también en forma de string). Condiciones:\n",
    "- Si los dos parámetros que recibe la función son strings vacíos la función nos debe devolver \"0\"\n",
    "- Si el primer parámetro es un string vacío, la función nos devuelve el valor del segundo parámetro y viceversa.\n",
    "\n",
    "\n"
   ]
  },
  {
   "cell_type": "code",
   "execution_count": 3,
   "metadata": {},
   "outputs": [],
   "source": [
    "def suma_string (a, b):\n",
    "    str_vacio = \"\"\n",
    "    if a == str_vacio: \n",
    "        a = 0\n",
    "    if b == str_vacio:\n",
    "        b = 0\n",
    "    else:   #----> Este else forma parte del sefundo if, \n",
    "            # por eso en cuanto el primer if da false, salta directamente a lo siguiente, \n",
    "            # que es el return, sin llegar a convertir a integer el parámetro b\n",
    "        a = int(a)\n",
    "        b= int(b)\n",
    "    suma = a + b\n",
    "    return str(suma)"
   ]
  },
  {
   "cell_type": "code",
   "execution_count": 4,
   "metadata": {},
   "outputs": [
    {
     "data": {
      "text/plain": [
       "'9'"
      ]
     },
     "execution_count": 4,
     "metadata": {},
     "output_type": "execute_result"
    }
   ],
   "source": [
    "suma_string(\"4\", \"5\")"
   ]
  },
  {
   "cell_type": "code",
   "execution_count": 5,
   "metadata": {},
   "outputs": [
    {
     "data": {
      "text/plain": [
       "'39'"
      ]
     },
     "execution_count": 5,
     "metadata": {},
     "output_type": "execute_result"
    }
   ],
   "source": [
    "suma_string(\"34\", \"5\")"
   ]
  },
  {
   "cell_type": "code",
   "execution_count": 6,
   "metadata": {},
   "outputs": [
    {
     "data": {
      "text/plain": [
       "'0'"
      ]
     },
     "execution_count": 6,
     "metadata": {},
     "output_type": "execute_result"
    }
   ],
   "source": [
    "suma_string(\"\", \"\")"
   ]
  },
  {
   "cell_type": "code",
   "execution_count": 7,
   "metadata": {},
   "outputs": [
    {
     "ename": "TypeError",
     "evalue": "can only concatenate str (not \"int\") to str",
     "output_type": "error",
     "traceback": [
      "\u001b[0;31m---------------------------------------------------------------------------\u001b[0m",
      "\u001b[0;31mTypeError\u001b[0m                                 Traceback (most recent call last)",
      "\u001b[0;32m/tmp/ipykernel_1159/2204895382.py\u001b[0m in \u001b[0;36m<module>\u001b[0;34m\u001b[0m\n\u001b[0;32m----> 1\u001b[0;31m \u001b[0msuma_string\u001b[0m\u001b[0;34m(\u001b[0m\u001b[0;34m\"2\"\u001b[0m\u001b[0;34m,\u001b[0m \u001b[0;34m\"\"\u001b[0m\u001b[0;34m)\u001b[0m\u001b[0;34m\u001b[0m\u001b[0;34m\u001b[0m\u001b[0m\n\u001b[0m",
      "\u001b[0;32m/tmp/ipykernel_1159/542488960.py\u001b[0m in \u001b[0;36msuma_string\u001b[0;34m(a, b)\u001b[0m\n\u001b[1;32m     10\u001b[0m         \u001b[0ma\u001b[0m \u001b[0;34m=\u001b[0m \u001b[0mint\u001b[0m\u001b[0;34m(\u001b[0m\u001b[0ma\u001b[0m\u001b[0;34m)\u001b[0m\u001b[0;34m\u001b[0m\u001b[0;34m\u001b[0m\u001b[0m\n\u001b[1;32m     11\u001b[0m         \u001b[0mb\u001b[0m\u001b[0;34m=\u001b[0m \u001b[0mint\u001b[0m\u001b[0;34m(\u001b[0m\u001b[0mb\u001b[0m\u001b[0;34m)\u001b[0m\u001b[0;34m\u001b[0m\u001b[0;34m\u001b[0m\u001b[0m\n\u001b[0;32m---> 12\u001b[0;31m     \u001b[0msuma\u001b[0m \u001b[0;34m=\u001b[0m \u001b[0ma\u001b[0m \u001b[0;34m+\u001b[0m \u001b[0mb\u001b[0m\u001b[0;34m\u001b[0m\u001b[0;34m\u001b[0m\u001b[0m\n\u001b[0m\u001b[1;32m     13\u001b[0m     \u001b[0;32mreturn\u001b[0m \u001b[0mstr\u001b[0m\u001b[0;34m(\u001b[0m\u001b[0msuma\u001b[0m\u001b[0;34m)\u001b[0m\u001b[0;34m\u001b[0m\u001b[0;34m\u001b[0m\u001b[0m\n",
      "\u001b[0;31mTypeError\u001b[0m: can only concatenate str (not \"int\") to str"
     ]
    }
   ],
   "source": [
    "suma_string(\"2\", \"\")"
   ]
  },
  {
   "cell_type": "code",
   "execution_count": null,
   "metadata": {},
   "outputs": [
    {
     "data": {
      "text/plain": [
       "'-2'"
      ]
     },
     "execution_count": 13,
     "metadata": {},
     "output_type": "execute_result"
    }
   ],
   "source": [
    "suma_string(\"-5\", \"3\")"
   ]
  },
  {
   "cell_type": "code",
   "execution_count": null,
   "metadata": {},
   "outputs": [],
   "source": [
    "b = 4"
   ]
  },
  {
   "cell_type": "code",
   "execution_count": 8,
   "metadata": {},
   "outputs": [],
   "source": [
    "def suma_string (a, b):\n",
    "    str_vacio = \"\"\n",
    "    if a == str_vacio: \n",
    "        a = 0\n",
    "    if b == str_vacio:\n",
    "        b = 0\n",
    "    if a != str_vacio:  \n",
    "        a = int(a)\n",
    "    if b != str_vacio:\n",
    "        b= int(b)\n",
    "    suma = a + b\n",
    "    return str(suma)"
   ]
  },
  {
   "cell_type": "code",
   "execution_count": 9,
   "metadata": {},
   "outputs": [
    {
     "data": {
      "text/plain": [
       "'9'"
      ]
     },
     "execution_count": 9,
     "metadata": {},
     "output_type": "execute_result"
    }
   ],
   "source": [
    "suma_string(\"4\", \"5\")"
   ]
  },
  {
   "cell_type": "code",
   "execution_count": 10,
   "metadata": {},
   "outputs": [
    {
     "data": {
      "text/plain": [
       "'39'"
      ]
     },
     "execution_count": 10,
     "metadata": {},
     "output_type": "execute_result"
    }
   ],
   "source": [
    "suma_string(\"34\", \"5\")"
   ]
  },
  {
   "cell_type": "code",
   "execution_count": 11,
   "metadata": {},
   "outputs": [
    {
     "data": {
      "text/plain": [
       "'0'"
      ]
     },
     "execution_count": 11,
     "metadata": {},
     "output_type": "execute_result"
    }
   ],
   "source": [
    "suma_string(\"\", \"\")"
   ]
  },
  {
   "cell_type": "code",
   "execution_count": 12,
   "metadata": {},
   "outputs": [
    {
     "data": {
      "text/plain": [
       "'2'"
      ]
     },
     "execution_count": 12,
     "metadata": {},
     "output_type": "execute_result"
    }
   ],
   "source": [
    "suma_string(\"2\", \"\")"
   ]
  },
  {
   "cell_type": "code",
   "execution_count": 13,
   "metadata": {},
   "outputs": [
    {
     "data": {
      "text/plain": [
       "'-2'"
      ]
     },
     "execution_count": 13,
     "metadata": {},
     "output_type": "execute_result"
    }
   ],
   "source": [
    "suma_string(\"-5\", \"3\")"
   ]
  },
  {
   "cell_type": "markdown",
   "metadata": {},
   "source": [
    "# Ejercicio 2\n",
    "El objetivo es comparar cada par de enteros de 2 listas, \n",
    "y devolver una nueva lista con el número mayor de la comapración.\n",
    "```python\n",
    "Probad la función para las siguientes listas: \n",
    "\n",
    "arr1 = [13, 64, 15, 17, 88]\n",
    "arr2 = [23, 14, 53, 17, 80]\n",
    "resultado = [23, 64, 53, 17, 88]\n",
    "```"
   ]
  },
  {
   "cell_type": "code",
   "execution_count": 14,
   "metadata": {},
   "outputs": [],
   "source": [
    "arr1 = [13, 64, 15, 17, 88]\n",
    "arr2 = [23, 14, 53, 17, 80]"
   ]
  },
  {
   "cell_type": "code",
   "execution_count": null,
   "metadata": {},
   "outputs": [],
   "source": [
    "lista_nueva = []                                # no me vale porque no puedo iterar por dos listas a la vez conun for, que es lo que necesito para compararlas\n",
    "                                                # vamos allá con la recomendación de hace un zip (además nunca sabré cuantos indices tendrán las listas que se metan en las funciones)\n",
    "if arr1[0] > arr2[0] or arr2[0] > arr1[0]:\n",
    "    lista_nueva.append(arr1[0])\n",
    "    lista_nueva.append(arr2[0])\n",
    "elif arr1[1] > arr2[1] or arr2[1] > arr1[1]:\n",
    "    lista_nueva.append(arr1[1])\n",
    "    lista_nueva.append(arr2[1])"
   ]
  },
  {
   "cell_type": "code",
   "execution_count": 16,
   "metadata": {},
   "outputs": [
    {
     "data": {
      "text/plain": [
       "<zip at 0x7f3c30085d80>"
      ]
     },
     "execution_count": 16,
     "metadata": {},
     "output_type": "execute_result"
    }
   ],
   "source": [
    "zip(arr1,arr2)"
   ]
  },
  {
   "cell_type": "code",
   "execution_count": 17,
   "metadata": {},
   "outputs": [
    {
     "data": {
      "text/plain": [
       "[(13, 23), (64, 14), (15, 53), (17, 17), (88, 80)]"
      ]
     },
     "execution_count": 17,
     "metadata": {},
     "output_type": "execute_result"
    }
   ],
   "source": [
    "arr1y2 = list(zip(arr1,arr2))\n",
    "arr1y2"
   ]
  },
  {
   "cell_type": "code",
   "execution_count": null,
   "metadata": {},
   "outputs": [],
   "source": [
    "lista_mayores = []\n",
    "for tupla in arr1y2:\n",
    "    #for num in tupla: (había puesto esta línea de código para acceder a los números dentro de las tuplas, pero luego, \n",
    "    # siguiendo el ejercicio, me he dado cuenta de que no los puedo comparar, porque ambos son num\n",
    "    # los tengo que referenciar a través de su índice dentro de la tupla) SIGO ABAJO EN LIMPIO\n",
    "        if tupla[0] > tupla[1]:\n",
    "            lista_mayores.append(tupla[0])\n",
    "        else:\n",
    "            lista_mayores.append(tupla[1]) "
   ]
  },
  {
   "cell_type": "code",
   "execution_count": 27,
   "metadata": {},
   "outputs": [],
   "source": [
    "# Ahora lo meto dentro de una función (ojo indentacion y llamar a cada lista diferente)\n",
    "\n",
    "def lista_numero_mayor(lista1, lista2):\n",
    "\n",
    "    lista_mayores = []\n",
    "    for tupla in arr1y2:\n",
    "        if tupla[0] > tupla[1]:\n",
    "            lista_mayores.append(tupla[0])\n",
    "        else:\n",
    "            lista_mayores.append(tupla[1]) \n",
    "    return lista_mayores"
   ]
  },
  {
   "cell_type": "code",
   "execution_count": 28,
   "metadata": {},
   "outputs": [
    {
     "data": {
      "text/plain": [
       "[23, 64, 53, 17, 88]"
      ]
     },
     "execution_count": 28,
     "metadata": {},
     "output_type": "execute_result"
    }
   ],
   "source": [
    "lista_numero_mayor (arr1,arr2)"
   ]
  },
  {
   "cell_type": "markdown",
   "metadata": {},
   "source": [
    "# Ejercicio 3\n",
    "El objetivo de este ejercicio es convertir un string en un nuevo string en el que cada carácter del nuevo string es \"(\" si ese carácter aparece sólo una vez en el string original, o \")\" si ese carácter aparece más de una vez en el string. Nuestro código no tiene que ser case sensitive, es decir, si hay una letra en mayúscula y en minúscula cuenta como dos apariciones.\n",
    "```python\n",
    "Probad la función para los siguientes strings \n",
    "\n",
    "\"din\"      =>  \"(((\"\n",
    "\"recede\"   =>  \"()()()\"\n",
    "\"Success\"  =>  \")())())\"\n",
    "\"(( @\"     =>  \"))((\" \n",
    "\"Ocvl@GamFLAFkixkS\" => \"((()(()()))))(()(\"\n",
    "```\n"
   ]
  },
  {
   "cell_type": "code",
   "execution_count": 2,
   "metadata": {},
   "outputs": [
    {
     "data": {
      "text/plain": [
       "'((('"
      ]
     },
     "execution_count": 2,
     "metadata": {},
     "output_type": "execute_result"
    }
   ],
   "source": [
    "string= 'din'\n",
    "new_string = ''\n",
    "for i in string.lower():\n",
    "    if string.count(i) == 1:\n",
    "        new_string += '('\n",
    "    else:\n",
    "        new_string += ')'\n",
    "        \n",
    "new_string\n",
    "\n"
   ]
  },
  {
   "cell_type": "code",
   "execution_count": 2,
   "metadata": {},
   "outputs": [],
   "source": [
    "def parentestring(string):\n",
    "    new_string = ''\n",
    "    for i in string.lower():\n",
    "        if string.count(i) == 1:\n",
    "            new_string += '('\n",
    "        else:\n",
    "            new_string += ')'\n",
    "    return new_string"
   ]
  },
  {
   "cell_type": "code",
   "execution_count": 3,
   "metadata": {},
   "outputs": [
    {
     "data": {
      "text/plain": [
       "'((('"
      ]
     },
     "execution_count": 3,
     "metadata": {},
     "output_type": "execute_result"
    }
   ],
   "source": [
    "parentestring('din')"
   ]
  },
  {
   "cell_type": "code",
   "execution_count": 4,
   "metadata": {},
   "outputs": [
    {
     "data": {
      "text/plain": [
       "'()()()'"
      ]
     },
     "execution_count": 4,
     "metadata": {},
     "output_type": "execute_result"
    }
   ],
   "source": [
    "parentestring(\"recede\")"
   ]
  },
  {
   "cell_type": "code",
   "execution_count": 5,
   "metadata": {},
   "outputs": [
    {
     "data": {
      "text/plain": [
       "')())())'"
      ]
     },
     "execution_count": 5,
     "metadata": {},
     "output_type": "execute_result"
    }
   ],
   "source": [
    "parentestring('Success')"
   ]
  },
  {
   "cell_type": "code",
   "execution_count": 6,
   "metadata": {},
   "outputs": [
    {
     "data": {
      "text/plain": [
       "'))(('"
      ]
     },
     "execution_count": 6,
     "metadata": {},
     "output_type": "execute_result"
    }
   ],
   "source": [
    "parentestring(\"(( @\")"
   ]
  },
  {
   "cell_type": "code",
   "execution_count": 7,
   "metadata": {},
   "outputs": [
    {
     "data": {
      "text/plain": [
       "')(((()(()(())(())'"
      ]
     },
     "execution_count": 7,
     "metadata": {},
     "output_type": "execute_result"
    }
   ],
   "source": [
    "parentestring(\"Ocvl@GamFLAFkixkS\")"
   ]
  },
  {
   "cell_type": "markdown",
   "metadata": {},
   "source": [
    "# BONUS 4. \n",
    "A Pete le gusta hacer pasteles. Tiene algunas recetas e ingredientes. Desgraciadamente, no se le dan bien las matemáticas. ¿Puedes ayudarle a averiguar cuántas tartas puede hacer teniendo en cuenta sus recetas?\n",
    "```python\n",
    "Escribid una función,  que tome la receta (diccionario) y los ingredientes disponibles (también un diccionario) y devuelva el número máximo de pasteles que Pete puede hornear (entero). Para simplificar, no hay unidades para las cantidades (por ejemplo, 1 libra de harina o 200 g de azúcar son simplemente 1 o 200). Los ingredientes que no están presentes en los diccionarios, pueden ser considerados como 0.\n",
    "\n",
    "```\n",
    "Probad con los siguientes diccionarios: \n",
    "\n",
    "RECETA {'flour': 500, 'sugar': 200, 'eggs': 1}, \n",
    "INGREDIENTES {'flour': 1200, 'sugar': 1200, 'eggs': 5, 'milk': 200}\n",
    "\n",
    "RESULTADO: 2 \n",
    "----------\n",
    "\n",
    "RECETA {'apples': 3, 'flour': 300, 'sugar': 150, 'milk': 100, 'oil': 100}\n",
    "INGREDIENTES {'sugar': 500, 'flour': 2000, 'milk': 2000}\n",
    "\n",
    "RESULTADO 0\n",
    "``` \n",
    "**Pista**: Nuestra función recibirá dos parámetros. \n",
    "```"
   ]
  },
  {
   "cell_type": "code",
   "execution_count": null,
   "metadata": {},
   "outputs": [],
   "source": [
    "def calculadora_de_pasteles (receta, ingredientes):\n",
    "    lista_elementos_receta = list(receta.keys())\n",
    "    lista_cantidades_receta = list(receta.keys())\n",
    "    lista_elementos_casa = list(ingredientes.values())\n",
    "    if lista_elementos_casa not in lista_elementos_receta:\n",
    "        num_pasteles = 0\n",
    "    else:\n",
    "        i=0\n",
    "        v=0\n",
    "        lista_confirm = []\n",
    "        for elem in lista_elementos_receta:\n",
    "            if lista_elementos_receta[v] != lista_elementos_casa[i]:\n",
    "                i += 1\n",
    "          \n",
    "            elif ingredientes[lista_elementos_casa[i]] < receta[lista_elementos_receta[v]]:\n",
    "                num_pasteles = 0\n",
    "                v += 1\n",
    "                i = 0\n",
    "            elif ingredientes[lista_elementos_casa[i]] == receta[lista_elementos_receta[v]]:\n",
    "\n",
    "    \n"
   ]
  },
  {
   "cell_type": "code",
   "execution_count": null,
   "metadata": {},
   "outputs": [],
   "source": [
    "diccionario = {'flour': 500, 'sugar': 200, 'eggs': 1}\n",
    "diccionario2 = {'flour': 1200, 'sugar': 1200, 'eggs': 5, 'milk': 200}"
   ]
  },
  {
   "cell_type": "code",
   "execution_count": null,
   "metadata": {},
   "outputs": [],
   "source": [
    "lista_receta = list(diccionario.keys())\n",
    "lista_ing = list(diccionario2.keys())"
   ]
  },
  {
   "cell_type": "code",
   "execution_count": 1,
   "metadata": {},
   "outputs": [],
   "source": [
    "dic1= {'flour':500, 'sugar': 200, 'eggs':1}\n",
    "dic2 = {'flour': 1200, 'sugar': 1200, 'eggs': 5, 'milk': 200}"
   ]
  },
  {
   "cell_type": "code",
   "execution_count": 2,
   "metadata": {},
   "outputs": [],
   "source": [
    "list1 = list(dic1.keys())\n",
    "list2 = list(dic2.keys())"
   ]
  },
  {
   "cell_type": "code",
   "execution_count": 5,
   "metadata": {},
   "outputs": [
    {
     "data": {
      "text/plain": [
       "['flour', 'sugar', 'eggs']"
      ]
     },
     "execution_count": 5,
     "metadata": {},
     "output_type": "execute_result"
    }
   ],
   "source": [
    "list1"
   ]
  },
  {
   "cell_type": "code",
   "execution_count": 26,
   "metadata": {},
   "outputs": [
    {
     "data": {
      "text/plain": [
       "['flour', 'sugar', 'eggs', 'milk']"
      ]
     },
     "execution_count": 26,
     "metadata": {},
     "output_type": "execute_result"
    }
   ],
   "source": [
    "list2"
   ]
  },
  {
   "cell_type": "code",
   "execution_count": 10,
   "metadata": {},
   "outputs": [
    {
     "data": {
      "text/plain": [
       "False"
      ]
     },
     "execution_count": 10,
     "metadata": {},
     "output_type": "execute_result"
    }
   ],
   "source": [
    "list1 in list2   #No puedo comparar una lista con una lista, tengo que ir elemento a elemento"
   ]
  },
  {
   "cell_type": "code",
   "execution_count": 9,
   "metadata": {},
   "outputs": [
    {
     "name": "stdout",
     "output_type": "stream",
     "text": [
      "Hay flour\n",
      "Hay sugar\n",
      "Hay eggs\n"
     ]
    }
   ],
   "source": [
    "i = 0\n",
    "for elem in list1:\n",
    "    if list2.count(list1[i]) == 0:\n",
    "        print('No hay', list1[i])\n",
    "        i +=1"
   ]
  },
  {
   "cell_type": "code",
   "execution_count": 24,
   "metadata": {},
   "outputs": [],
   "source": [
    "def calculadora_de_pasteles (receta, ingredientes):\n",
    "    num_pasteles = ''\n",
    "    lista_elementos_receta = list(receta.keys())\n",
    "    lista_elementos_casa = list(ingredientes.keys())\n",
    "    hay = []\n",
    "    i = 0\n",
    "    for elem in lista_elementos_receta:\n",
    "        if lista_elementos_casa.count(lista_elementos_receta[i]) != 0:\n",
    "            hay.append(lista_elementos_receta[i])\n",
    "            i +=1\n",
    "    if len(hay) == len(lista_elementos_receta):\n",
    "        print('He llegado a comprobar que hay')\n",
    "        c=0\n",
    "        r=0\n",
    "        lista_confirm = []\n",
    "        \n",
    "        for elem in lista_elementos_casa:\n",
    "            #if lista_elementos_receta[r] != lista_elementos_casa[c]:\n",
    "                #print('Comprobando siguiente elemento de casa')\n",
    "                #c += 1\n",
    "\n",
    "          \n",
    "            if ingredientes[lista_elementos_casa[c]] < receta[lista_elementos_receta[r]]:\n",
    "                print('No se pueden hacer pasteles hoy')\n",
    "                num_pasteles += '0'\n",
    "                \n",
    "            elif ingredientes[lista_elementos_casa[c]] == receta[lista_elementos_receta[r]]:\n",
    "                lista_confirm.append('suficiente')\n",
    "                r += 1\n",
    "                c = 0\n",
    "                print(f'De {lista_elementos_receta[r]} hay suficiente, voy a comprobar el siguiente')\n",
    "            elif ingredientes[lista_elementos_casa[c]] > receta[lista_elementos_receta[r]]:\n",
    "                calculo = ingredientes[lista_elementos_casa[c]] // receta[lista_elementos_receta[r]]\n",
    "                if calculo < 2:\n",
    "                    lista_confirm.append('suficiente')\n",
    "                    r += 1\n",
    "                    c = 0\n",
    "                elif calculo == 2:\n",
    "                    lista_confirm.append('hay para 2')\n",
    "                    r += 1\n",
    "                    c = 0\n",
    "                elif calculo > 2:\n",
    "                    lista_confirm.append('hay para 3+')\n",
    "                    r += 1\n",
    "                    c = 0\n",
    "        if len(lista_confirm) == len(lista_elementos_receta):\n",
    "            print(lista_confirm)\n",
    "            if lista_confirm.count('hay para 3+') == len(lista_elementos_receta):\n",
    "                num_pasteles += 'tres o más'\n",
    "            elif lista_confirm.count('hay para 2') == len(lista_elementos_receta):\n",
    "                num_pasteles += '2'\n",
    "            else:\n",
    "                num_pasteles += '1'\n",
    "    return print(f'Tienes los ingredientes para hacer {num_pasteles} pasteles')\n"
   ]
  },
  {
   "cell_type": "code",
   "execution_count": 12,
   "metadata": {},
   "outputs": [],
   "source": [
    "dic1= {'flour':500, 'sugar': 200, 'eggs':1}\n",
    "dic2 = {'flour': 1200, 'sugar': 1200, 'eggs': 5, 'milk': 200}"
   ]
  },
  {
   "cell_type": "code",
   "execution_count": 25,
   "metadata": {},
   "outputs": [
    {
     "name": "stdout",
     "output_type": "stream",
     "text": [
      "He llegado a comprobar que hay\n"
     ]
    },
    {
     "ename": "IndexError",
     "evalue": "list index out of range",
     "output_type": "error",
     "traceback": [
      "\u001b[0;31m---------------------------------------------------------------------------\u001b[0m",
      "\u001b[0;31mIndexError\u001b[0m                                Traceback (most recent call last)",
      "\u001b[0;32m/tmp/ipykernel_328/138688428.py\u001b[0m in \u001b[0;36m<module>\u001b[0;34m\u001b[0m\n\u001b[0;32m----> 1\u001b[0;31m \u001b[0mresultado\u001b[0m \u001b[0;34m=\u001b[0m \u001b[0mcalculadora_de_pasteles\u001b[0m\u001b[0;34m(\u001b[0m\u001b[0mdic1\u001b[0m\u001b[0;34m,\u001b[0m \u001b[0mdic2\u001b[0m\u001b[0;34m)\u001b[0m\u001b[0;34m\u001b[0m\u001b[0;34m\u001b[0m\u001b[0m\n\u001b[0m\u001b[1;32m      2\u001b[0m \u001b[0mresultado\u001b[0m\u001b[0;34m\u001b[0m\u001b[0;34m\u001b[0m\u001b[0m\n",
      "\u001b[0;32m/tmp/ipykernel_328/2710648710.py\u001b[0m in \u001b[0;36mcalculadora_de_pasteles\u001b[0;34m(receta, ingredientes)\u001b[0m\n\u001b[1;32m     21\u001b[0m \u001b[0;34m\u001b[0m\u001b[0m\n\u001b[1;32m     22\u001b[0m \u001b[0;34m\u001b[0m\u001b[0m\n\u001b[0;32m---> 23\u001b[0;31m             \u001b[0;32mif\u001b[0m \u001b[0mingredientes\u001b[0m\u001b[0;34m[\u001b[0m\u001b[0mlista_elementos_casa\u001b[0m\u001b[0;34m[\u001b[0m\u001b[0mc\u001b[0m\u001b[0;34m]\u001b[0m\u001b[0;34m]\u001b[0m \u001b[0;34m<\u001b[0m \u001b[0mreceta\u001b[0m\u001b[0;34m[\u001b[0m\u001b[0mlista_elementos_receta\u001b[0m\u001b[0;34m[\u001b[0m\u001b[0mr\u001b[0m\u001b[0;34m]\u001b[0m\u001b[0;34m]\u001b[0m\u001b[0;34m:\u001b[0m\u001b[0;34m\u001b[0m\u001b[0;34m\u001b[0m\u001b[0m\n\u001b[0m\u001b[1;32m     24\u001b[0m                 \u001b[0mprint\u001b[0m\u001b[0;34m(\u001b[0m\u001b[0;34m'No se pueden hacer pasteles hoy'\u001b[0m\u001b[0;34m)\u001b[0m\u001b[0;34m\u001b[0m\u001b[0;34m\u001b[0m\u001b[0m\n\u001b[1;32m     25\u001b[0m                 \u001b[0mnum_pasteles\u001b[0m \u001b[0;34m+=\u001b[0m \u001b[0;34m'0'\u001b[0m\u001b[0;34m\u001b[0m\u001b[0;34m\u001b[0m\u001b[0m\n",
      "\u001b[0;31mIndexError\u001b[0m: list index out of range"
     ]
    }
   ],
   "source": [
    "resultado = calculadora_de_pasteles(dic1, dic2)\n",
    "resultado"
   ]
  },
  {
   "cell_type": "code",
   "execution_count": 27,
   "metadata": {},
   "outputs": [
    {
     "data": {
      "text/plain": [
       "['flour', 'sugar', 'eggs']"
      ]
     },
     "execution_count": 27,
     "metadata": {},
     "output_type": "execute_result"
    }
   ],
   "source": [
    "list1"
   ]
  },
  {
   "cell_type": "code",
   "execution_count": 28,
   "metadata": {},
   "outputs": [
    {
     "data": {
      "text/plain": [
       "['flour', 'sugar', 'eggs', 'milk']"
      ]
     },
     "execution_count": 28,
     "metadata": {},
     "output_type": "execute_result"
    }
   ],
   "source": [
    "list2"
   ]
  },
  {
   "cell_type": "code",
   "execution_count": 31,
   "metadata": {},
   "outputs": [
    {
     "name": "stdout",
     "output_type": "stream",
     "text": [
      "coinciden\n",
      "coinciden\n",
      "coinciden\n"
     ]
    },
    {
     "ename": "IndexError",
     "evalue": "list index out of range",
     "output_type": "error",
     "traceback": [
      "\u001b[0;31m---------------------------------------------------------------------------\u001b[0m",
      "\u001b[0;31mIndexError\u001b[0m                                Traceback (most recent call last)",
      "\u001b[0;32m/tmp/ipykernel_328/247025270.py\u001b[0m in \u001b[0;36m<module>\u001b[0;34m\u001b[0m\n\u001b[1;32m      3\u001b[0m \u001b[0mj\u001b[0m \u001b[0;34m=\u001b[0m \u001b[0;36m0\u001b[0m\u001b[0;34m\u001b[0m\u001b[0;34m\u001b[0m\u001b[0m\n\u001b[1;32m      4\u001b[0m \u001b[0;32mfor\u001b[0m \u001b[0melem\u001b[0m \u001b[0;32min\u001b[0m \u001b[0mlist2\u001b[0m\u001b[0;34m:\u001b[0m\u001b[0;34m\u001b[0m\u001b[0;34m\u001b[0m\u001b[0m\n\u001b[0;32m----> 5\u001b[0;31m     \u001b[0;32mif\u001b[0m \u001b[0mlist1\u001b[0m\u001b[0;34m[\u001b[0m\u001b[0mi\u001b[0m\u001b[0;34m]\u001b[0m \u001b[0;34m!=\u001b[0m \u001b[0mlist2\u001b[0m\u001b[0;34m[\u001b[0m\u001b[0mj\u001b[0m\u001b[0;34m]\u001b[0m\u001b[0;34m:\u001b[0m\u001b[0;34m\u001b[0m\u001b[0;34m\u001b[0m\u001b[0m\n\u001b[0m\u001b[1;32m      6\u001b[0m         \u001b[0mprint\u001b[0m\u001b[0;34m(\u001b[0m\u001b[0;34m'son diferentes'\u001b[0m\u001b[0;34m)\u001b[0m\u001b[0;34m\u001b[0m\u001b[0;34m\u001b[0m\u001b[0m\n\u001b[1;32m      7\u001b[0m         \u001b[0mj\u001b[0m \u001b[0;34m+=\u001b[0m\u001b[0;36m1\u001b[0m\u001b[0;34m\u001b[0m\u001b[0;34m\u001b[0m\u001b[0m\n",
      "\u001b[0;31mIndexError\u001b[0m: list index out of range"
     ]
    }
   ],
   "source": [
    "hay = []\n",
    "i = 0\n",
    "j = 0\n",
    "for elem in list2:\n",
    "    if list1[i] != list2[j]:\n",
    "        print('son diferentes')\n",
    "        j +=1\n",
    "        print('comprobando siguiente elemento')\n",
    "    else:\n",
    "        print('coinciden')\n",
    "        hay.append(list1[i])\n",
    "        i+=1\n",
    "        j+=1"
   ]
  },
  {
   "cell_type": "code",
   "execution_count": 30,
   "metadata": {},
   "outputs": [
    {
     "data": {
      "text/plain": [
       "['flour', 'flour', 'flour', 'flour']"
      ]
     },
     "execution_count": 30,
     "metadata": {},
     "output_type": "execute_result"
    }
   ],
   "source": [
    "hay"
   ]
  },
  {
   "cell_type": "code",
   "execution_count": 32,
   "metadata": {},
   "outputs": [
    {
     "name": "stdout",
     "output_type": "stream",
     "text": [
      "coinciden\n",
      "coinciden\n",
      "coinciden\n"
     ]
    }
   ],
   "source": [
    "hay = []\n",
    "i = 0\n",
    "j = 0\n",
    "while len(hay) < len(list1):\n",
    "    if list1[i] != list2[j]:\n",
    "        print('son diferentes')\n",
    "        j +=1\n",
    "        print('comprobando siguiente elemento')\n",
    "    else:\n",
    "        print('coinciden')\n",
    "        hay.append(list1[i])\n",
    "        i+=1\n",
    "        j+=1"
   ]
  },
  {
   "cell_type": "code",
   "execution_count": 33,
   "metadata": {},
   "outputs": [
    {
     "name": "stdout",
     "output_type": "stream",
     "text": [
      "['flour', 'sugar', 'eggs']\n"
     ]
    }
   ],
   "source": [
    "print(hay)"
   ]
  },
  {
   "cell_type": "code",
   "execution_count": null,
   "metadata": {},
   "outputs": [],
   "source": [
    "# probando con while en vez de for\n",
    "\n",
    "def calculadora_de_pasteles (receta, ingredientes):\n",
    "    num_pasteles = ''\n",
    "    lista_elementos_receta = list(receta.keys())\n",
    "    lista_elementos_casa = list(ingredientes.keys())\n",
    "    hay = []\n",
    "    i = 0\n",
    "    for elem in lista_elementos_receta:\n",
    "        if lista_elementos_casa.count(lista_elementos_receta[i]) != 0:\n",
    "            hay.append(lista_elementos_receta[i])\n",
    "            i +=1\n",
    "    if len(hay) == len(lista_elementos_receta):\n",
    "        print('He llegado a comprobar que hay')\n",
    "        c=0\n",
    "        r=0\n",
    "        lista_confirm = []\n",
    "        \n",
    "        while len(lista_confirm) < len(lista_elementos_receta):\n",
    "            if lista_elementos_receta[r] != lista_elementos_casa[c]:\n",
    "                print('Comprobando siguiente elemento de casa')\n",
    "                c += 1\n",
    "\n",
    "          \n",
    "            elif ingredientes[lista_elementos_casa[c]] < receta[lista_elementos_receta[r]]:\n",
    "                print('No se pueden hacer pasteles hoy')\n",
    "                num_pasteles += '0'\n",
    "                \n",
    "            elif ingredientes[lista_elementos_casa[c]] == receta[lista_elementos_receta[r]]:\n",
    "                lista_confirm.append('suficiente')\n",
    "                r += 1\n",
    "                c = 0\n",
    "                print(f'De {lista_elementos_receta[r]} hay suficiente, voy a comprobar el siguiente')\n",
    "            elif ingredientes[lista_elementos_casa[c]] > receta[lista_elementos_receta[r]]:\n",
    "                calculo = ingredientes[lista_elementos_casa[c]] // receta[lista_elementos_receta[r]]\n",
    "                if calculo < 2:\n",
    "                    lista_confirm.append('suficiente')\n",
    "                    r += 1\n",
    "                    c = 0\n",
    "                elif calculo == 2:\n",
    "                    lista_confirm.append('hay para 2')\n",
    "                    r += 1\n",
    "                    c = 0\n",
    "                elif calculo > 2:\n",
    "                    lista_confirm.append('hay para 3+')\n",
    "                    r += 1\n",
    "                    c = 0\n",
    "        if len(lista_confirm) == len(lista_elementos_receta):\n",
    "            print(lista_confirm)\n",
    "            if lista_confirm.count('hay para 3+') == len(lista_elementos_receta):\n",
    "                num_pasteles += 'tres o más'\n",
    "            elif lista_confirm.count('hay para 2') == len(lista_elementos_receta):\n",
    "                num_pasteles += '2'\n",
    "            else:\n",
    "                num_pasteles += '1'\n",
    "    return print(f'Tienes los ingredientes para hacer {num_pasteles} pasteles')"
   ]
  },
  {
   "cell_type": "code",
   "execution_count": null,
   "metadata": {},
   "outputs": [],
   "source": [
    "# voy a probar si se puede acceder a un value a traves del indice de la lista de keys\n",
    "dic1= {'flour':500, 'sugar': 200, 'eggs':1}\n",
    "dic2 = {'flour': 1200, 'sugar': 1200, 'eggs': 5, 'milk': 200}\n",
    "list1 = list(dic1.keys())\n",
    "list2 = list(dic2.keys())\n"
   ]
  },
  {
   "cell_type": "code",
   "execution_count": null,
   "metadata": {},
   "outputs": [],
   "source": []
  },
  {
   "cell_type": "markdown",
   "metadata": {},
   "source": [
    "# BONUS 5.\n",
    " Escribid una función que va a ser una calculadora. La lista recibirá dos parámetros, una lista de números y un string con la operación que queremos hacer (puede ser \"*\", \"+\")\n",
    " ``` \n",
    "Probad con los siguientes inputs\n",
    "\n",
    "lista1 = [11, 6, 98, 1, 2] , \"*\"\n",
    "RESULTADO 12936\n",
    "\n",
    "-----------------------------------\n",
    "lista2 = [23,34, 56, 11, 90] , \"+\"\n",
    "RESULTADO 214\n",
    "\n",
    "-----------------------------------\n",
    "lista3 = [23, 4,109 , 94, 77] , \"-\"\n",
    "RESULTADO 'Lo siento, necesito que me pases una operación valida.'\n",
    "```"
   ]
  }
 ],
 "metadata": {
  "kernelspec": {
   "display_name": "Python 3.9.7 ('base')",
   "language": "python",
   "name": "python3"
  },
  "language_info": {
   "codemirror_mode": {
    "name": "ipython",
    "version": 3
   },
   "file_extension": ".py",
   "mimetype": "text/x-python",
   "name": "python",
   "nbconvert_exporter": "python",
   "pygments_lexer": "ipython3",
   "version": "3.9.7"
  },
  "orig_nbformat": 4,
  "vscode": {
   "interpreter": {
    "hash": "6be5d780ee9b0e6fe20ff9090f4981b24f52f07297829e94136e87c5137905e3"
   }
  }
 },
 "nbformat": 4,
 "nbformat_minor": 2
}
