{
 "cells": [
  {
   "cell_type": "code",
   "execution_count": 1,
   "metadata": {},
   "outputs": [],
   "source": [
    "import mysql.connector"
   ]
  },
  {
   "cell_type": "code",
   "execution_count": null,
   "metadata": {},
   "outputs": [],
   "source": [
    "#1.\n",
    "#Antes de empezar a trabajar con la BBDD de Northwind, conozcamos un poco las BBDD que tenemos en nuestro servidor. \n",
    "# ¿Qué BBDD tenemos en nuestro servidor?"
   ]
  },
  {
   "cell_type": "code",
   "execution_count": 4,
   "metadata": {},
   "outputs": [
    {
     "name": "stdout",
     "output_type": "stream",
     "text": [
      "('bbdd_nba',)\n",
      "('creacion_tienda',)\n",
      "('ejercicio_tienda',)\n",
      "('information_schema',)\n",
      "('leccion-1-sql',)\n",
      "('leccion-10-sql',)\n",
      "('leccion-11-sql',)\n",
      "('leccion-12-sql',)\n",
      "('leccion-13-sql',)\n",
      "('leccion-14-sql',)\n",
      "('leccion-2-sql',)\n",
      "('leccion-3-sql',)\n",
      "('leccion-4-sql',)\n",
      "('leccion-5-sql',)\n",
      "('leccion-6-sql',)\n",
      "('leccion-7-sql',)\n",
      "('leccion-8-sql',)\n",
      "('leccion-9-sql',)\n",
      "('mysql',)\n",
      "('northwind',)\n",
      "('performance_schema',)\n",
      "('project1',)\n",
      "('sakila',)\n",
      "('spotify',)\n",
      "('sys',)\n",
      "('tienda',)\n",
      "('world',)\n",
      "('zalando',)\n"
     ]
    }
   ],
   "source": [
    "mydb = mysql.connector.connect(\n",
    "              user='root', password='AlumnaAdalab',\n",
    "              host='127.0.0.1',\n",
    "              database='tienda'\n",
    ")\n",
    "\n",
    "mycursor = mydb.cursor()\n",
    "\n",
    "\n",
    "\n",
    "mycursor.execute(\"SHOW DATABASES\")\n",
    "\n",
    "for i in mycursor:\n",
    "    print(i)\n",
    "\n",
    "\n",
    "mydb.close()\n"
   ]
  },
  {
   "cell_type": "code",
   "execution_count": null,
   "metadata": {},
   "outputs": [],
   "source": [
    "# 2.\n",
    "# Empezemos a explorar la BBDD de Northwind. ¿Qué tablas componen la BBDD? \n",
    "# Recuerda que primero nos tendremos que conectar con la BBDD sobre la que queremos trabajar. \n",
    "# Guarda el resultado de los nombres de la tablas en una lista."
   ]
  },
  {
   "cell_type": "code",
   "execution_count": 7,
   "metadata": {},
   "outputs": [
    {
     "name": "stdout",
     "output_type": "stream",
     "text": [
      "[('categories',), ('customer_customer_demo',), ('customer_demographics',), ('customers',), ('employee_territories',), ('employees',), ('order_details',), ('orders',), ('products',), ('region',), ('shippers',), ('suppliers',), ('territories',)]\n"
     ]
    }
   ],
   "source": [
    "mydb = mysql.connector.connect(\n",
    "              user='root', password='AlumnaAdalab',\n",
    "              host='127.0.0.1',\n",
    "              database='northwind'\n",
    ")\n",
    "\n",
    "\n",
    "mycursor = mydb.cursor()\n",
    "\n",
    "mycursor.execute(\"SHOW TABLES\")\n",
    "lista_tablas = []\n",
    "for i in mycursor:\n",
    "    lista_tablas.append(i)\n",
    "\n",
    "print(lista_tablas)"
   ]
  },
  {
   "cell_type": "code",
   "execution_count": 16,
   "metadata": {},
   "outputs": [
    {
     "ename": "TypeError",
     "evalue": "list indices must be integers or slices, not tuple",
     "output_type": "error",
     "traceback": [
      "\u001b[0;31m---------------------------------------------------------------------------\u001b[0m",
      "\u001b[0;31mTypeError\u001b[0m                                 Traceback (most recent call last)",
      "\u001b[0;32m/var/folders/fk/9dj5qplx5dv2l_dlsz8sf1pw0000gn/T/ipykernel_69319/2889473720.py\u001b[0m in \u001b[0;36m<module>\u001b[0;34m\u001b[0m\n\u001b[1;32m      1\u001b[0m \u001b[0mlista_lista\u001b[0m \u001b[0;34m=\u001b[0m \u001b[0;34m[\u001b[0m\u001b[0;34m]\u001b[0m\u001b[0;34m\u001b[0m\u001b[0;34m\u001b[0m\u001b[0m\n\u001b[1;32m      2\u001b[0m \u001b[0;32mfor\u001b[0m \u001b[0mz\u001b[0m \u001b[0;32min\u001b[0m \u001b[0mlista_tablas\u001b[0m\u001b[0;34m:\u001b[0m\u001b[0;34m\u001b[0m\u001b[0;34m\u001b[0m\u001b[0m\n\u001b[0;32m----> 3\u001b[0;31m     \u001b[0mlista_lista\u001b[0m\u001b[0;34m.\u001b[0m\u001b[0mappend\u001b[0m\u001b[0;34m(\u001b[0m\u001b[0mlista_tablas\u001b[0m \u001b[0;34m[\u001b[0m\u001b[0mz\u001b[0m\u001b[0;34m]\u001b[0m\u001b[0;34m[\u001b[0m\u001b[0;36m0\u001b[0m\u001b[0;34m]\u001b[0m\u001b[0;34m)\u001b[0m\u001b[0;34m\u001b[0m\u001b[0;34m\u001b[0m\u001b[0m\n\u001b[0m\u001b[1;32m      4\u001b[0m \u001b[0mlista_lista\u001b[0m\u001b[0;34m\u001b[0m\u001b[0;34m\u001b[0m\u001b[0m\n",
      "\u001b[0;31mTypeError\u001b[0m: list indices must be integers or slices, not tuple"
     ]
    }
   ],
   "source": [
    "# PENDIENTE PARA SACAR UNA LISTA DE STRINGS DE LA LISTA DE TUBLAS\n",
    "\n",
    "lista_lista = []\n",
    "for z in (len(lista_tablas)):\n",
    "    lista_lista.append(lista_tablas [z][0])\n",
    "lista_lista"
   ]
  },
  {
   "cell_type": "code",
   "execution_count": 11,
   "metadata": {},
   "outputs": [
    {
     "data": {
      "text/plain": [
       "'categories'"
      ]
     },
     "execution_count": 11,
     "metadata": {},
     "output_type": "execute_result"
    }
   ],
   "source": [
    "lista_tablas[0][0]"
   ]
  },
  {
   "cell_type": "code",
   "execution_count": null,
   "metadata": {},
   "outputs": [],
   "source": [
    "# 3. .\n",
    "# ¿Qué columnas tiene cada una de las tablas? Para esto tendréis que hacer un for loop para que nos saque el \n",
    "# resultado de todas las columnas."
   ]
  },
  {
   "cell_type": "code",
   "execution_count": 18,
   "metadata": {},
   "outputs": [
    {
     "ename": "TypeError",
     "evalue": "execute() takes from 2 to 4 positional arguments but 12 were given",
     "output_type": "error",
     "traceback": [
      "\u001b[0;31m---------------------------------------------------------------------------\u001b[0m",
      "\u001b[0;31mTypeError\u001b[0m                                 Traceback (most recent call last)",
      "\u001b[0;32m/var/folders/fk/9dj5qplx5dv2l_dlsz8sf1pw0000gn/T/ipykernel_69319/1839772899.py\u001b[0m in \u001b[0;36m<module>\u001b[0;34m\u001b[0m\n\u001b[1;32m      3\u001b[0m \u001b[0mquery\u001b[0m \u001b[0;34m=\u001b[0m \u001b[0;34m'SELECT * FROM COLUMNS WHERE TABLE_NAME = %s'\u001b[0m\u001b[0;34m\u001b[0m\u001b[0;34m\u001b[0m\u001b[0m\n\u001b[1;32m      4\u001b[0m \u001b[0;32mfor\u001b[0m \u001b[0mi\u001b[0m \u001b[0;32min\u001b[0m \u001b[0mlista_tablas_str\u001b[0m\u001b[0;34m:\u001b[0m\u001b[0;34m\u001b[0m\u001b[0;34m\u001b[0m\u001b[0m\n\u001b[0;32m----> 5\u001b[0;31m     \u001b[0mmycursor\u001b[0m\u001b[0;34m.\u001b[0m\u001b[0mexecute\u001b[0m\u001b[0;34m(\u001b[0m\u001b[0mquery\u001b[0m\u001b[0;34m,\u001b[0m\u001b[0;34m*\u001b[0m\u001b[0mi\u001b[0m\u001b[0;34m)\u001b[0m\u001b[0;34m\u001b[0m\u001b[0;34m\u001b[0m\u001b[0m\n\u001b[0m\u001b[1;32m      6\u001b[0m \u001b[0mprint\u001b[0m\u001b[0;34m(\u001b[0m\u001b[0mi\u001b[0m\u001b[0;34m)\u001b[0m\u001b[0;34m\u001b[0m\u001b[0;34m\u001b[0m\u001b[0m\n",
      "\u001b[0;31mTypeError\u001b[0m: execute() takes from 2 to 4 positional arguments but 12 were given"
     ]
    }
   ],
   "source": [
    "lista_tablas_str = ['categories', 'customer_customer_demo', 'customer_demographics', 'customers', 'employee_territories', 'employees', 'order_details', 'orders', 'products', 'region', 'shippers', 'suppliers', 'territories']\n",
    "mycursor = mydb.cursor()\n",
    "query = 'SELECT * FROM COLUMNS WHERE TABLE_NAME = %s'\n",
    "for i in lista_tablas_str:\n",
    "    mycursor.execute(query,i)\n",
    "print(i)"
   ]
  },
  {
   "cell_type": "code",
   "execution_count": 20,
   "metadata": {},
   "outputs": [
    {
     "name": "stdout",
     "output_type": "stream",
     "text": [
      "SELECT * FROM COLUMNS WHERE TABLE_NAME = categories SELECT * FROM COLUMNS WHERE TABLE_NAME = customer_customer_demo SELECT * FROM COLUMNS WHERE TABLE_NAME = customer_demographics\n"
     ]
    }
   ],
   "source": [
    "mycursor = mydb.cursor()\n",
    "query1 = 'SELECT * FROM COLUMNS WHERE TABLE_NAME = categories'\n",
    "query2 = 'SELECT * FROM COLUMNS WHERE TABLE_NAME = customer_customer_demo'\n",
    "query3 = 'SELECT * FROM COLUMNS WHERE TABLE_NAME = customer_demographics'\n",
    "print(query1,query2,query3)"
   ]
  },
  {
   "cell_type": "code",
   "execution_count": 24,
   "metadata": {},
   "outputs": [
    {
     "ename": "ProgrammingError",
     "evalue": "Could not process parameters: MySQLCursor(MySQLCursor: (Nothing executed yet)), it must be of type list, tuple or dict",
     "output_type": "error",
     "traceback": [
      "\u001b[0;31m---------------------------------------------------------------------------\u001b[0m",
      "\u001b[0;31mProgrammingError\u001b[0m                          Traceback (most recent call last)",
      "\u001b[0;32m/var/folders/fk/9dj5qplx5dv2l_dlsz8sf1pw0000gn/T/ipykernel_69319/2336583238.py\u001b[0m in \u001b[0;36m<module>\u001b[0;34m\u001b[0m\n\u001b[1;32m      1\u001b[0m \u001b[0mmycursor\u001b[0m \u001b[0;34m=\u001b[0m \u001b[0mmydb\u001b[0m\u001b[0;34m.\u001b[0m\u001b[0mcursor\u001b[0m\u001b[0;34m(\u001b[0m\u001b[0;34m)\u001b[0m\u001b[0;34m\u001b[0m\u001b[0;34m\u001b[0m\u001b[0m\n\u001b[1;32m      2\u001b[0m \u001b[0mquery\u001b[0m \u001b[0;34m=\u001b[0m \u001b[0;34m'SELECT TABLE_NAME, COLUMN_NAME FROM COLUMNS WHERE TABLE_SCHEMA = northwind'\u001b[0m\u001b[0;34m\u001b[0m\u001b[0;34m\u001b[0m\u001b[0m\n\u001b[0;32m----> 3\u001b[0;31m \u001b[0mmycursor\u001b[0m\u001b[0;34m.\u001b[0m\u001b[0mexecute\u001b[0m\u001b[0;34m(\u001b[0m\u001b[0mquery\u001b[0m\u001b[0;34m,\u001b[0m \u001b[0mmycursor\u001b[0m\u001b[0;34m)\u001b[0m\u001b[0;34m\u001b[0m\u001b[0;34m\u001b[0m\u001b[0m\n\u001b[0m",
      "\u001b[0;32m/opt/anaconda3/lib/python3.9/site-packages/mysql/connector/cursor.py\u001b[0m in \u001b[0;36mexecute\u001b[0;34m(self, operation, params, multi)\u001b[0m\n\u001b[1;32m    548\u001b[0m                     )\n\u001b[1;32m    549\u001b[0m             \u001b[0;32melse\u001b[0m\u001b[0;34m:\u001b[0m\u001b[0;34m\u001b[0m\u001b[0;34m\u001b[0m\u001b[0m\n\u001b[0;32m--> 550\u001b[0;31m                 raise ProgrammingError(\n\u001b[0m\u001b[1;32m    551\u001b[0m                     \u001b[0;34mf\"Could not process parameters: {type(params).__name__}({params}),\"\u001b[0m\u001b[0;34m\u001b[0m\u001b[0;34m\u001b[0m\u001b[0m\n\u001b[1;32m    552\u001b[0m                     \u001b[0;34m\" it must be of type list, tuple or dict\"\u001b[0m\u001b[0;34m\u001b[0m\u001b[0;34m\u001b[0m\u001b[0m\n",
      "\u001b[0;31mProgrammingError\u001b[0m: Could not process parameters: MySQLCursor(MySQLCursor: (Nothing executed yet)), it must be of type list, tuple or dict"
     ]
    }
   ],
   "source": [
    "#ALEJANDRO\n",
    "\n",
    "mycursor = mydb.cursor()\n",
    "query = 'SELECT TABLE_NAME, COLUMN_NAME FROM COLUMNS WHERE TABLE_SCHEMA = northwind'\n",
    "mycursor.execute(query, mycursor)"
   ]
  },
  {
   "cell_type": "code",
   "execution_count": null,
   "metadata": {},
   "outputs": [],
   "source": [
    "# 2.Hagamos unas queries facilitas:\n",
    "# Extraed el primer pedido donde se ha gastado más. Devolved el id del pedido y la cantidad gastada.\n",
    "# Devuelve la misma query que en el anterior ejercicio, pero en este caso devuelve todos los resultados.\n",
    "# Extraed el números de pedidos que se hayan hecho por dia. Devuelve los resultados en una dataframe.\n",
    "# Extraer los pedidos hechos por \"Nancy Daviolo\". Tendréis que hacer una subquery."
   ]
  },
  {
   "cell_type": "code",
   "execution_count": null,
   "metadata": {},
   "outputs": [],
   "source": [
    "mycursor = mydb.cursor()\n",
    "\n",
    "mycursor.execute(\"SELECT order_id, MAX(unit_price * quantity) AS Cantidad_gastada FROM order_details GROUP BY order_idORDER BY Cantidad_gastada DESC LIMIT 2\")\n",
    "\n",
    "for i in lista_tablas:\n",
    "    break\n",
    "print(lista_tablas)"
   ]
  }
 ],
 "metadata": {
  "kernelspec": {
   "display_name": "Python 3.9.7 ('base')",
   "language": "python",
   "name": "python3"
  },
  "language_info": {
   "codemirror_mode": {
    "name": "ipython",
    "version": 3
   },
   "file_extension": ".py",
   "mimetype": "text/x-python",
   "name": "python",
   "nbconvert_exporter": "python",
   "pygments_lexer": "ipython3",
   "version": "3.9.7"
  },
  "orig_nbformat": 4,
  "vscode": {
   "interpreter": {
    "hash": "40d3a090f54c6569ab1632332b64b2c03c39dcf918b08424e98f38b5ae0af88f"
   }
  }
 },
 "nbformat": 4,
 "nbformat_minor": 2
}
