{
 "cells": [
  {
   "cell_type": "code",
   "execution_count": 1,
   "metadata": {},
   "outputs": [],
   "source": [
    "import mysql.connector"
   ]
  },
  {
   "cell_type": "code",
   "execution_count": null,
   "metadata": {},
   "outputs": [],
   "source": [
    "#1.\n",
    "#Antes de empezar a trabajar con la BBDD de Northwind, conozcamos un poco las BBDD que tenemos en nuestro servidor. \n",
    "# ¿Qué BBDD tenemos en nuestro servidor?"
   ]
  },
  {
   "cell_type": "code",
   "execution_count": 4,
   "metadata": {},
   "outputs": [
    {
     "name": "stdout",
     "output_type": "stream",
     "text": [
      "('bbdd_nba',)\n",
      "('creacion_tienda',)\n",
      "('ejercicio_tienda',)\n",
      "('information_schema',)\n",
      "('leccion-1-sql',)\n",
      "('leccion-10-sql',)\n",
      "('leccion-11-sql',)\n",
      "('leccion-12-sql',)\n",
      "('leccion-13-sql',)\n",
      "('leccion-14-sql',)\n",
      "('leccion-2-sql',)\n",
      "('leccion-3-sql',)\n",
      "('leccion-4-sql',)\n",
      "('leccion-5-sql',)\n",
      "('leccion-6-sql',)\n",
      "('leccion-7-sql',)\n",
      "('leccion-8-sql',)\n",
      "('leccion-9-sql',)\n",
      "('mysql',)\n",
      "('northwind',)\n",
      "('performance_schema',)\n",
      "('project1',)\n",
      "('sakila',)\n",
      "('spotify',)\n",
      "('sys',)\n",
      "('tienda',)\n",
      "('world',)\n",
      "('zalando',)\n"
     ]
    }
   ],
   "source": [
    "mydb = mysql.connector.connect(\n",
    "              user='root', password='AlumnaAdalab',\n",
    "              host='127.0.0.1',\n",
    "              database='tienda'\n",
    ")\n",
    "\n",
    "mycursor = mydb.cursor()\n",
    "\n",
    "\n",
    "\n",
    "mycursor.execute(\"SHOW DATABASES\")\n",
    "\n",
    "for i in mycursor:\n",
    "    print(i)\n",
    "\n",
    "\n",
    "mydb.close()\n"
   ]
  },
  {
   "cell_type": "code",
   "execution_count": null,
   "metadata": {},
   "outputs": [],
   "source": [
    "# 2.\n",
    "# Empezemos a explorar la BBDD de Northwind. ¿Qué tablas componen la BBDD? \n",
    "# Recuerda que primero nos tendremos que conectar con la BBDD sobre la que queremos trabajar. \n",
    "# Guarda el resultado de los nombres de la tablas en una lista."
   ]
  },
  {
   "cell_type": "code",
   "execution_count": 25,
   "metadata": {},
   "outputs": [
    {
     "name": "stdout",
     "output_type": "stream",
     "text": [
      "[('categories',), ('customer_customer_demo',), ('customer_demographics',), ('customers',), ('employee_territories',), ('employees',), ('order_details',), ('orders',), ('products',), ('region',), ('shippers',), ('suppliers',), ('territories',)]\n"
     ]
    },
    {
     "data": {
      "text/plain": [
       "True"
      ]
     },
     "execution_count": 25,
     "metadata": {},
     "output_type": "execute_result"
    }
   ],
   "source": [
    "mydb = mysql.connector.connect(\n",
    "              user='root', password='AlumnaAdalab',\n",
    "              host='127.0.0.1',\n",
    "              database='northwind'\n",
    ")\n",
    "\n",
    "\n",
    "mycursor = mydb.cursor()\n",
    "\n",
    "mycursor.execute(\"SHOW TABLES\")\n",
    "lista_tablas = []\n",
    "for i in mycursor:\n",
    "    lista_tablas.append(i)\n",
    "\n",
    "print(lista_tablas)\n",
    "\n",
    "mycursor.close()"
   ]
  },
  {
   "cell_type": "code",
   "execution_count": 16,
   "metadata": {},
   "outputs": [
    {
     "ename": "TypeError",
     "evalue": "list indices must be integers or slices, not tuple",
     "output_type": "error",
     "traceback": [
      "\u001b[0;31m---------------------------------------------------------------------------\u001b[0m",
      "\u001b[0;31mTypeError\u001b[0m                                 Traceback (most recent call last)",
      "\u001b[0;32m/var/folders/fk/9dj5qplx5dv2l_dlsz8sf1pw0000gn/T/ipykernel_69319/2889473720.py\u001b[0m in \u001b[0;36m<module>\u001b[0;34m\u001b[0m\n\u001b[1;32m      1\u001b[0m \u001b[0mlista_lista\u001b[0m \u001b[0;34m=\u001b[0m \u001b[0;34m[\u001b[0m\u001b[0;34m]\u001b[0m\u001b[0;34m\u001b[0m\u001b[0;34m\u001b[0m\u001b[0m\n\u001b[1;32m      2\u001b[0m \u001b[0;32mfor\u001b[0m \u001b[0mz\u001b[0m \u001b[0;32min\u001b[0m \u001b[0mlista_tablas\u001b[0m\u001b[0;34m:\u001b[0m\u001b[0;34m\u001b[0m\u001b[0;34m\u001b[0m\u001b[0m\n\u001b[0;32m----> 3\u001b[0;31m     \u001b[0mlista_lista\u001b[0m\u001b[0;34m.\u001b[0m\u001b[0mappend\u001b[0m\u001b[0;34m(\u001b[0m\u001b[0mlista_tablas\u001b[0m \u001b[0;34m[\u001b[0m\u001b[0mz\u001b[0m\u001b[0;34m]\u001b[0m\u001b[0;34m[\u001b[0m\u001b[0;36m0\u001b[0m\u001b[0;34m]\u001b[0m\u001b[0;34m)\u001b[0m\u001b[0;34m\u001b[0m\u001b[0;34m\u001b[0m\u001b[0m\n\u001b[0m\u001b[1;32m      4\u001b[0m \u001b[0mlista_lista\u001b[0m\u001b[0;34m\u001b[0m\u001b[0;34m\u001b[0m\u001b[0m\n",
      "\u001b[0;31mTypeError\u001b[0m: list indices must be integers or slices, not tuple"
     ]
    }
   ],
   "source": [
    "# PENDIENTE PARA SACAR UNA LISTA DE STRINGS DE LA LISTA DE TUBLAS\n",
    "\n",
    "lista_lista = []\n",
    "for z in (len(lista_tablas)):\n",
    "    lista_lista.append(lista_tablas [z][0])\n",
    "lista_lista"
   ]
  },
  {
   "cell_type": "code",
   "execution_count": 11,
   "metadata": {},
   "outputs": [
    {
     "data": {
      "text/plain": [
       "'categories'"
      ]
     },
     "execution_count": 11,
     "metadata": {},
     "output_type": "execute_result"
    }
   ],
   "source": [
    "lista_tablas[0][0]"
   ]
  },
  {
   "cell_type": "code",
   "execution_count": null,
   "metadata": {},
   "outputs": [],
   "source": [
    "# 3. .\n",
    "# ¿Qué columnas tiene cada una de las tablas? Para esto tendréis que hacer un for loop para que nos saque el \n",
    "# resultado de todas las columnas."
   ]
  },
  {
   "cell_type": "code",
   "execution_count": 28,
   "metadata": {},
   "outputs": [
    {
     "name": "stdout",
     "output_type": "stream",
     "text": [
      "('categories', 'category_id')\n",
      "('categories', 'category_name')\n",
      "('categories', 'description')\n",
      "('categories', 'picture')\n",
      "('customer_customer_demo', 'customer_id')\n",
      "('customer_customer_demo', 'customertype_id')\n",
      "('customer_demographics', 'customer_type_id')\n",
      "('customer_demographics', 'customer_desc')\n",
      "('customers', 'customer_id')\n",
      "('customers', 'company_name')\n",
      "('customers', 'contact_name')\n",
      "('customers', 'contact_title')\n",
      "('customers', 'address')\n",
      "('customers', 'city')\n",
      "('customers', 'region')\n",
      "('customers', 'postal_code')\n",
      "('customers', 'country')\n",
      "('customers', 'phone')\n",
      "('customers', 'fax')\n",
      "('employee_territories', 'employee_id')\n",
      "('employee_territories', 'territory_id')\n",
      "('employees', 'employee_id')\n",
      "('employees', 'last_name')\n",
      "('employees', 'first_name')\n",
      "('employees', 'title')\n",
      "('employees', 'title_of_courtesy')\n",
      "('employees', 'birth_date')\n",
      "('employees', 'hire_date')\n",
      "('employees', 'address')\n",
      "('employees', 'city')\n",
      "('employees', 'region')\n",
      "('employees', 'postal_code')\n",
      "('employees', 'country')\n",
      "('employees', 'home_phone')\n",
      "('employees', 'extension')\n",
      "('employees', 'photo')\n",
      "('employees', 'notes')\n",
      "('employees', 'reports_to')\n",
      "('employees', 'photo_path')\n",
      "('order_details', 'order_id')\n",
      "('order_details', 'product_id')\n",
      "('order_details', 'unit_price')\n",
      "('order_details', 'quantity')\n",
      "('order_details', 'discount')\n",
      "('orders', 'order_id')\n",
      "('orders', 'customer_id')\n",
      "('orders', 'employee_id')\n",
      "('orders', 'order_date')\n",
      "('orders', 'required_date')\n",
      "('orders', 'shipped_date')\n",
      "('orders', 'ship_via')\n",
      "('orders', 'freight')\n",
      "('orders', 'ship_name')\n",
      "('orders', 'ship_address')\n",
      "('orders', 'ship_city')\n",
      "('orders', 'ship_region')\n",
      "('orders', 'ship_postal_code')\n",
      "('orders', 'ship_country')\n",
      "('products', 'product_id')\n",
      "('products', 'product_name')\n",
      "('products', 'supplier_id')\n",
      "('products', 'category_id')\n",
      "('products', 'quantity_per_unit')\n",
      "('products', 'unit_price')\n",
      "('products', 'units_in_stock')\n",
      "('products', 'units_on_order')\n",
      "('products', 'reorder_level')\n",
      "('products', 'discontinued')\n",
      "('region', 'region_id')\n",
      "('region', 'region_description')\n",
      "('shippers', 'shipper_id')\n",
      "('shippers', 'company_name')\n",
      "('shippers', 'phone')\n",
      "('suppliers', 'supplier_id')\n",
      "('suppliers', 'company_name')\n",
      "('suppliers', 'contact_name')\n",
      "('suppliers', 'contact_title')\n",
      "('suppliers', 'adress')\n",
      "('suppliers', 'city')\n",
      "('suppliers', 'region')\n",
      "('suppliers', 'postal_code')\n",
      "('suppliers', 'country')\n",
      "('suppliers', 'phone')\n",
      "('suppliers', 'fax')\n",
      "('suppliers', 'home_page')\n",
      "('territories', 'territory_id')\n",
      "('territories', 'territory_description')\n",
      "('territories', 'region_id')\n"
     ]
    }
   ],
   "source": [
    "#ALEJANDRO\n",
    "mydb = mysql.connector.connect(\n",
    "              user='root', password='AlumnaAdalab',\n",
    "              host='127.0.0.1',\n",
    "              database='information_schema'\n",
    ")\n",
    "mycursor = mydb.cursor()\n",
    "mycursor.execute(\"SELECT TABLE_NAME, COLUMN_NAME FROM COLUMNS WHERE TABLE_SCHEMA = 'northwind'\")\n",
    "\n",
    "for x in mycursor:\n",
    "    print(x)\n",
    "\n",
    "mydb.close()"
   ]
  },
  {
   "cell_type": "code",
   "execution_count": null,
   "metadata": {},
   "outputs": [],
   "source": [
    "# 2.Hagamos unas queries facilitas:\n",
    "# Extraed el primer pedido donde se ha gastado más. Devolved el id del pedido y la cantidad gastada.\n",
    "# Devuelve la misma query que en el anterior ejercicio, pero en este caso devuelve todos los resultados.\n",
    "# Extraed el números de pedidos que se hayan hecho por dia. Devuelve los resultados en una dataframe.\n",
    "# Extraer los pedidos hechos por \"Nancy Daviolo\". Tendréis que hacer una subquery."
   ]
  },
  {
   "cell_type": "code",
   "execution_count": null,
   "metadata": {},
   "outputs": [],
   "source": [
    "mycursor = mydb.cursor()\n",
    "\n",
    "mycursor.execute(\"SELECT order_id, MAX(unit_price * quantity) AS Cantidad_gastada FROM order_details GROUP BY order_idORDER BY Cantidad_gastada DESC LIMIT 2\")\n",
    "\n",
    "for i in lista_tablas:\n",
    "    break\n",
    "print(lista_tablas)"
   ]
  }
 ],
 "metadata": {
  "kernelspec": {
   "display_name": "Python 3.9.7 ('base')",
   "language": "python",
   "name": "python3"
  },
  "language_info": {
   "codemirror_mode": {
    "name": "ipython",
    "version": 3
   },
   "file_extension": ".py",
   "mimetype": "text/x-python",
   "name": "python",
   "nbconvert_exporter": "python",
   "pygments_lexer": "ipython3",
   "version": "3.9.7"
  },
  "orig_nbformat": 4,
  "vscode": {
   "interpreter": {
    "hash": "40d3a090f54c6569ab1632332b64b2c03c39dcf918b08424e98f38b5ae0af88f"
   }
  }
 },
 "nbformat": 4,
 "nbformat_minor": 2
}
