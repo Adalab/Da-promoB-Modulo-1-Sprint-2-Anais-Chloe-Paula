{
 "cells": [
  {
   "cell_type": "markdown",
   "metadata": {},
   "source": [
    "Definid una clase que se llame Empleados\n",
    "\n",
    "Definid los siguientes atributos que caracterizan a nuestros empleados:\n",
    "- nombre\n",
    "- apellido\n",
    "- edad\n",
    "- posición que ocupa en la empresa\n",
    "- año en que entró en la empresa\n",
    "- número de días de vacaciones que tiene\n",
    "- Las herramientas que usa cada uno de ellos, por ejemplo, Outlook, excel y word. Deberá ser una lista.\n",
    "\n",
    "Cread una instancia para la clase creada\n",
    "Definid los siguientes métodos:\n",
    "- descripción\n",
    "- calculo_vacaciones\n",
    "- cambiando_posicion"
   ]
  },
  {
   "cell_type": "code",
   "execution_count": null,
   "metadata": {},
   "outputs": [],
   "source": [
    "# herramientas como arg\n",
    "# probar lo de definir la variable por defecto dentro de la funcion\n",
    "# hace falta ponerle self a nuevo puesto?\n",
    "# self.vacaciones -= vacaciones consumidas---> input"
   ]
  },
  {
   "cell_type": "code",
   "execution_count": 9,
   "metadata": {},
   "outputs": [],
   "source": [
    "class Empleados():\n",
    "    def __init__(self, nombre, apellido, edad, puesto, incorporacion, vacaciones, herramientas):\n",
    "        self.nombre = nombre \n",
    "        self.apellido = apellido\n",
    "        self.edad = edad\n",
    "        self.puesto = puesto\n",
    "        self.incorporacion = incorporacion\n",
    "        self.vacaciones = vacaciones\n",
    "        self.herramientas = herramientas\n",
    "    \n",
    "    def descripcion(self):\n",
    "        return print(f'{self.nombre} {self.apellido} de {self.edad} años, es {self.puesto} en la empresa desde {self.incorporacion}. Y utiliza {self.herramientas}.')\n",
    "    \n",
    "    def calculo_vacaciones(self):\n",
    "        dias_totales = self.vacaciones\n",
    "        dias_disfrutados = int(input('¿Cuantos días de vacaciones has disfrutado?'))\n",
    "        dias_restantes = dias_totales - dias_disfrutados\n",
    "        return print(f'Te quedan {dias_restantes} de vacaciones.')\n",
    "\n",
    "    def cambiando_posicion(self, nuevo_puesto):\n",
    "        if self.puesto != nuevo_puesto:\n",
    "            print(f'{self.nombre} ahora es {nuevo_puesto}.')\n"
   ]
  },
  {
   "cell_type": "code",
   "execution_count": 10,
   "metadata": {},
   "outputs": [],
   "source": [
    "Sara = Empleados('Sara', 'Martinez', 30, 'Administrativa', 2015, 22, 'Excel')"
   ]
  },
  {
   "cell_type": "code",
   "execution_count": 3,
   "metadata": {},
   "outputs": [
    {
     "name": "stdout",
     "output_type": "stream",
     "text": [
      "Sara Martinez de 30 años, es Administrativa en la empresa desde 2015. Y utiliza Excel.\n"
     ]
    }
   ],
   "source": [
    "Sara.descripcion()"
   ]
  },
  {
   "cell_type": "code",
   "execution_count": 7,
   "metadata": {},
   "outputs": [
    {
     "name": "stdout",
     "output_type": "stream",
     "text": [
      "Te quedan 12 de vacaciones.\n"
     ]
    }
   ],
   "source": [
    "Sara.calculo_vacaciones()"
   ]
  },
  {
   "cell_type": "code",
   "execution_count": 8,
   "metadata": {},
   "outputs": [
    {
     "name": "stdout",
     "output_type": "stream",
     "text": [
      "Sara ahora es Gerente\n"
     ]
    }
   ],
   "source": [
    "Sara.cambiando_posicion('Gerente')"
   ]
  }
 ],
 "metadata": {
  "kernelspec": {
   "display_name": "Python 3.9.7 ('base')",
   "language": "python",
   "name": "python3"
  },
  "language_info": {
   "codemirror_mode": {
    "name": "ipython",
    "version": 3
   },
   "file_extension": ".py",
   "mimetype": "text/x-python",
   "name": "python",
   "nbconvert_exporter": "python",
   "pygments_lexer": "ipython3",
   "version": "3.9.7"
  },
  "orig_nbformat": 4,
  "vscode": {
   "interpreter": {
    "hash": "6be5d780ee9b0e6fe20ff9090f4981b24f52f07297829e94136e87c5137905e3"
   }
  }
 },
 "nbformat": 4,
 "nbformat_minor": 2
}
