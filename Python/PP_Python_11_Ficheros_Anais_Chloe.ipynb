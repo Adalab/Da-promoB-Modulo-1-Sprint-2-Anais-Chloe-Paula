{
 "cells": [
  {
   "cell_type": "markdown",
   "metadata": {},
   "source": [
    "# Creación de carpetas y movimientos entre ellas\n",
    "---------------------------------- PRIMERA FUNCIÓN -----------------------\n",
    "Esta función debe incluir el código que:\n",
    "1. Nos muestre en que carpeta estamos trabajando.\n",
    "2. Cree una carpeta que se llame \"aprendiendo-ficheros\". ⚠️ Tened en cuenta que si la carpeta ya existe no la podemos crear, nos devolverá un error. Incluye en la función un programa que evite que nos de un error si la carpeta ya existe.\n",
    "3. Cree otra carpeta que se llame \"datos\" dentro de la carpeta \"aprendiendo-ficheros\". En esta carpeta \"datos\" guardaremos el fichero \"saludo.txt\" que os habéis descargado.\n",
    "4. Cambiad el directorio de trabajo a la carpeta \"datos\". Antes de seguir chequead que estáis trabajando en la carpeta \"datos\".\n",
    "5. Cambiad el nombre de la carpeta creada en el punto 2 a \"primera-toma-contacto\"\n"
   ]
  },
  {
   "cell_type": "markdown",
   "metadata": {},
   "source": [
    "💡 Pistas para resolver este ejercicio 💡 Esta función debe incluir el código que:\n",
    "1. La función tendrá que recibir 3 parámetros:\n",
    "- El nombre del nombre de la primera carpeta\n",
    "- El nombre de la carpeta segunda carpeta\n",
    "- El nombre con el que queramos cambiar el nombre de la primera carpeta creada\n",
    "2. Para saber si las carpetas ya existen tendréis que usar lstdir(recordad que nos devuelve una lista de ficheros y carpetas).\n",
    "3. Para poder controlar los errores tendremos que usar un if loop, que si el fichero existe, nos devuelva un mensaje de que el fichero ya existe. En caso de que no exista, los deberéis crear y que la función nos muestre un mensaje de que se ha creado.\n",
    "4. Tendréis que ir cambiando de directorio para poder crear las carpetas y cambiar sus nombres."
   ]
  },
  {
   "cell_type": "code",
   "execution_count": 1,
   "metadata": {},
   "outputs": [],
   "source": [
    "import os\n",
    "\n",
    "def gestionar_carpetas(car1, car1_1, new_name_car1):\n",
    "    ruta_inicial= os.getcwd()\n",
    "    if car1 not in os.listdir():\n",
    "        os.mkdir(car1)\n",
    "        print(f'Nueva carpeta {car1} creada')\n",
    "    else:\n",
    "        print(f'La carpeta {car1} ya existe')\n",
    "    os.chdir(f'./{car1}')\n",
    "    if car1_1 not in os.listdir():\n",
    "        os.mkdir(car1_1)\n",
    "        print(f'Nueva carpeta {car1_1} dentro de {car1} creada')\n",
    "    else:\n",
    "        print(f'La carpeta {car1_1} centro de {car1} ya existe')\n",
    "    print(os.getcwd())\n",
    "    os.chdir(f'./{car1_1}')  \n",
    "    print('Estamos dentro de car1_1') \n",
    "    #f_car1_1 = os.listdir.append('saludo.txt')"
   ]
  },
  {
   "cell_type": "code",
   "execution_count": 2,
   "metadata": {},
   "outputs": [
    {
     "name": "stdout",
     "output_type": "stream",
     "text": [
      "Nueva carpeta aprendiendo-ficheros creada\n",
      "Nueva carpeta datos dentro de aprendiendo-ficheros creada\n",
      "/mnt/c/Users/chloe/Documents/CURSOS/ADALAB GRAL/ADALAB/EJERCICIOS/Da-promoB-Modulo-1-Sprint-2-Anais-Chloe/Python/aprendiendo-ficheros\n",
      "Estamos dentro de car1_1\n"
     ]
    }
   ],
   "source": [
    "gestionar_carpetas('aprendiendo-ficheros','datos', 'primera-toma-contacto')"
   ]
  },
  {
   "cell_type": "code",
   "execution_count": 3,
   "metadata": {},
   "outputs": [],
   "source": [
    "import os"
   ]
  },
  {
   "cell_type": "code",
   "execution_count": 5,
   "metadata": {},
   "outputs": [
    {
     "data": {
      "text/plain": [
       "'/mnt/c/Users/chloe/Documents/CURSOS/ADALAB GRAL/ADALAB/EJERCICIOS/Da-promoB-Modulo-1-Sprint-2-Anais-Chloe/Python/aprendiendo-ficheros'"
      ]
     },
     "execution_count": 5,
     "metadata": {},
     "output_type": "execute_result"
    }
   ],
   "source": [
    "ruta_actual = os.getcwd()\n",
    "ruta_actual"
   ]
  },
  {
   "cell_type": "code",
   "execution_count": 8,
   "metadata": {},
   "outputs": [
    {
     "data": {
      "text/plain": [
       "['',\n",
       " 'mnt',\n",
       " 'c',\n",
       " 'Users',\n",
       " 'chloe',\n",
       " 'Documents',\n",
       " 'CURSOS',\n",
       " 'ADALAB GRAL',\n",
       " 'ADALAB']"
      ]
     },
     "execution_count": 8,
     "metadata": {},
     "output_type": "execute_result"
    }
   ],
   "source": [
    "ruta_ada = ruta_actual.split('/')[:9]\n",
    "ruta_ada"
   ]
  },
  {
   "cell_type": "code",
   "execution_count": null,
   "metadata": {},
   "outputs": [],
   "source": [
    "ruta_ada.'/'join()"
   ]
  },
  {
   "cell_type": "code",
   "execution_count": null,
   "metadata": {},
   "outputs": [],
   "source": [
    "os.chdir()"
   ]
  },
  {
   "cell_type": "code",
   "execution_count": 9,
   "metadata": {},
   "outputs": [
    {
     "data": {
      "text/plain": [
       "['datos']"
      ]
     },
     "execution_count": 9,
     "metadata": {},
     "output_type": "execute_result"
    }
   ],
   "source": [
    "os.listdir()"
   ]
  }
 ],
 "metadata": {
  "kernelspec": {
   "display_name": "Python 3.9.7 ('base')",
   "language": "python",
   "name": "python3"
  },
  "language_info": {
   "codemirror_mode": {
    "name": "ipython",
    "version": 3
   },
   "file_extension": ".py",
   "mimetype": "text/x-python",
   "name": "python",
   "nbconvert_exporter": "python",
   "pygments_lexer": "ipython3",
   "version": "3.9.7"
  },
  "orig_nbformat": 4,
  "vscode": {
   "interpreter": {
    "hash": "40d3a090f54c6569ab1632332b64b2c03c39dcf918b08424e98f38b5ae0af88f"
   }
  }
 },
 "nbformat": 4,
 "nbformat_minor": 2
}
