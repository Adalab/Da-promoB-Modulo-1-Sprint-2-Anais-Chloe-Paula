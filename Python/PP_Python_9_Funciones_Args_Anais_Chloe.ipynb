{
 "cells": [
  {
   "cell_type": "markdown",
   "metadata": {},
   "source": [
    "# Ejercicio 1\n",
    "Vamos a crear una \"Calculadora de puntos\". Tenéis que escribir una calculadora que reciba cadenas de caracteres como entrada. Los puntos representarán el número de la ecuación. Habrá puntos en un lado, un operador, y puntos de nuevo después del oparador. Los puntos y el operador estarán separados por un espacio.\n",
    "Aquí os dejamos los operadores válidos:\n",
    "- Suma\n",
    "- Resta\n",
    "- Multiplicación\n",
    "- División entera\n",
    "Vuestro trabajo\n",
    "Tendréis que devolver un string que contenga puntos, tantos como devuelva la ecuación. Si el resultado es 0, devuelve la cadena vacía. Cuando se trata de una resta, el primer número siempre será mayor o igual que el segundo.\n",
    "\n",
    "Probad la función con los siguientes casos: \n",
    "\n",
    "\"..... + ...............\" => \"....................\"\n",
    "\"..... - ...\" => \"..\"\n",
    "\"..... * ...\" => \"...............\"\n",
    "\"..... // ..\" => \"..\"\n",
    "\". // ..\" => \"\"\n",
    "\".. - ..\" => \"\""
   ]
  },
  {
   "cell_type": "code",
   "execution_count": 9,
   "metadata": {},
   "outputs": [
    {
     "data": {
      "text/plain": [
       "'...........'"
      ]
     },
     "execution_count": 9,
     "metadata": {},
     "output_type": "execute_result"
    }
   ],
   "source": [
    "nombre = '.....'\n",
    "apellido = '......'\n",
    "nombre + apellido"
   ]
  },
  {
   "cell_type": "code",
   "execution_count": 11,
   "metadata": {},
   "outputs": [
    {
     "data": {
      "text/plain": [
       "['.....', '+', '...............']"
      ]
     },
     "execution_count": 11,
     "metadata": {},
     "output_type": "execute_result"
    }
   ],
   "source": [
    "input1 = \"..... + ...............\"\n",
    "listainput1 = input1.split()\n",
    "listainput1"
   ]
  },
  {
   "cell_type": "code",
   "execution_count": null,
   "metadata": {},
   "outputs": [],
   "source": [
    "punt1 = listainput1[0]\n",
    "operador = listainput1[1]\n",
    "punt2 = listainput1[2]\n",
    "\n",
    "for "
   ]
  },
  {
   "cell_type": "code",
   "execution_count": 13,
   "metadata": {},
   "outputs": [
    {
     "data": {
      "text/plain": [
       "'.............'"
      ]
     },
     "execution_count": 13,
     "metadata": {},
     "output_type": "execute_result"
    }
   ],
   "source": [
    "num1 = '......'\n",
    "num2 = '.......'\n",
    "num1+num2"
   ]
  },
  {
   "cell_type": "code",
   "execution_count": 2,
   "metadata": {},
   "outputs": [],
   "source": [
    "def calculadora(stringpuntos):\n",
    "    stringpuntos = stringpuntos.split()\n",
    "    punt1 = len(stringpuntos[0])\n",
    "    punt2 = len(stringpuntos[2])\n",
    "    operador = stringpuntos[1]\n",
    "    \n",
    "    if operador == '+':\n",
    "        puntotal = punt1 + punt2\n",
    "    elif operador == '-':\n",
    "        if punt1 >= punt2:\n",
    "            puntotal = punt1 - punt2\n",
    "    elif operador == '*':\n",
    "        puntotal = punt1 * punt2\n",
    "    elif operador == '//':\n",
    "        puntotal = punt1 // punt2\n",
    "    \n",
    "    puntotal = puntotal * '.'\n",
    "    \n",
    "    return puntotal\n",
    "      "
   ]
  },
  {
   "cell_type": "code",
   "execution_count": 3,
   "metadata": {},
   "outputs": [
    {
     "data": {
      "text/plain": [
       "'....................'"
      ]
     },
     "execution_count": 3,
     "metadata": {},
     "output_type": "execute_result"
    }
   ],
   "source": [
    "calculadora(\"..... + ...............\")"
   ]
  },
  {
   "cell_type": "code",
   "execution_count": 4,
   "metadata": {},
   "outputs": [
    {
     "data": {
      "text/plain": [
       "'.'"
      ]
     },
     "execution_count": 4,
     "metadata": {},
     "output_type": "execute_result"
    }
   ],
   "source": [
    "calculadora(\"... - ..\")"
   ]
  },
  {
   "cell_type": "code",
   "execution_count": 5,
   "metadata": {},
   "outputs": [
    {
     "data": {
      "text/plain": [
       "'...............'"
      ]
     },
     "execution_count": 5,
     "metadata": {},
     "output_type": "execute_result"
    }
   ],
   "source": [
    "calculadora(\"..... * ...\")"
   ]
  },
  {
   "cell_type": "code",
   "execution_count": null,
   "metadata": {},
   "outputs": [],
   "source": []
  },
  {
   "cell_type": "code",
   "execution_count": null,
   "metadata": {},
   "outputs": [],
   "source": []
  },
  {
   "cell_type": "code",
   "execution_count": null,
   "metadata": {},
   "outputs": [],
   "source": []
  },
  {
   "cell_type": "markdown",
   "metadata": {},
   "source": [
    "# Ejercicio 2\n",
    "Te despides de tu mejor amigo, \"Nos vemos el próximo año\".\n",
    "Vuestro trabajo: Dado un año, encuentra el próximo cumpleaños o el año más cercano en el que verás a tu mejor amigo.\n",
    "Condiciones\n",
    "- Año siempre positivo.\n",
    "- El siguiente año que le felicites a tu mejor amigo no puede tener ningún dígito repetido.\n",
    "Probad la función con los siguientes casos:\n",
    "\n",
    "7712 ==> El siguiente año que felicitarás a tu amigo será el 7801. \n",
    "Por que es el siguiente año en el que no hay ninguún dígito repetido. \n",
    "\n",
    "\n",
    "1001 => 1023 \n",
    "\n",
    "1123 => 1203\n",
    "\n",
    "2001 => 2013"
   ]
  },
  {
   "cell_type": "code",
   "execution_count": 25,
   "metadata": {},
   "outputs": [],
   "source": [
    "def busca_ano(ano):\n",
    "    if ano <= 0:\n",
    "        print('No puedes retroceder en el tiempo')\n",
    "    for a in range(ano,):\n",
    "        if a > ano:\n",
    "            a = str(a)\n",
    "            for num in a:\n",
    "                if a.count(num) > 1:\n",
    "                    quedada = a\n",
    "                    pass\n",
    "    \n",
    "    return print(f'''El siguiente año que felicitarás a tu amigo será el {quedada}. \n",
    "Por que es el siguiente año en el que no hay ninguún dígito repetido.''' )\n"
   ]
  },
  {
   "cell_type": "code",
   "execution_count": 26,
   "metadata": {},
   "outputs": [
    {
     "ename": "UnboundLocalError",
     "evalue": "local variable 'quedada' referenced before assignment",
     "output_type": "error",
     "traceback": [
      "\u001b[0;31m---------------------------------------------------------------------------\u001b[0m",
      "\u001b[0;31mUnboundLocalError\u001b[0m                         Traceback (most recent call last)",
      "\u001b[0;32m/tmp/ipykernel_6035/3488865757.py\u001b[0m in \u001b[0;36m<module>\u001b[0;34m\u001b[0m\n\u001b[0;32m----> 1\u001b[0;31m \u001b[0mbusca_ano\u001b[0m\u001b[0;34m(\u001b[0m\u001b[0;36m2013\u001b[0m\u001b[0;34m)\u001b[0m\u001b[0;34m\u001b[0m\u001b[0;34m\u001b[0m\u001b[0m\n\u001b[0m",
      "\u001b[0;32m/tmp/ipykernel_6035/2700298912.py\u001b[0m in \u001b[0;36mbusca_ano\u001b[0;34m(ano)\u001b[0m\n\u001b[1;32m     10\u001b[0m                     \u001b[0;32mpass\u001b[0m\u001b[0;34m\u001b[0m\u001b[0;34m\u001b[0m\u001b[0m\n\u001b[1;32m     11\u001b[0m \u001b[0;34m\u001b[0m\u001b[0m\n\u001b[0;32m---> 12\u001b[0;31m     return print(f'''El siguiente año que felicitarás a tu amigo será el {quedada}. \n\u001b[0m\u001b[1;32m     13\u001b[0m Por que es el siguiente año en el que no hay ninguún dígito repetido.''' )\n",
      "\u001b[0;31mUnboundLocalError\u001b[0m: local variable 'quedada' referenced before assignment"
     ]
    }
   ],
   "source": [
    "busca_ano(2013)\n"
   ]
  },
  {
   "cell_type": "code",
   "execution_count": 43,
   "metadata": {},
   "outputs": [],
   "source": [
    "ano = 2013"
   ]
  },
  {
   "cell_type": "code",
   "execution_count": 41,
   "metadata": {},
   "outputs": [
    {
     "name": "stdout",
     "output_type": "stream",
     "text": [
      "2014\n",
      "2015\n",
      "2016\n",
      "2017\n",
      "2018\n",
      "2019\n",
      "2019\n",
      "2021\n",
      "2022\n",
      "2023\n",
      "2024\n",
      "2025\n",
      "2026\n",
      "2027\n",
      "2028\n",
      "2029\n",
      "2030\n",
      "2031\n",
      "2032\n",
      "2033\n",
      "2034\n",
      "2035\n",
      "2036\n",
      "2037\n",
      "2038\n",
      "2039\n",
      "2040\n",
      "2041\n",
      "2042\n",
      "2043\n",
      "2044\n",
      "2045\n",
      "2046\n",
      "2047\n",
      "2048\n",
      "2049\n"
     ]
    }
   ],
   "source": [
    "for a in range(ano, 2050):\n",
    "    if a > ano:\n",
    "        a = str(a)\n",
    "        for num in a:\n",
    "            if a.count(num) <= 1:\n",
    "                quedada = a           # pienso que hay que seleccionar solo uno, osea, el siguiente año que no tenga digitos repetidos. Por lo tanto voy a probar mas cosas\n",
    "        print(quedada)"
   ]
  },
  {
   "cell_type": "code",
   "execution_count": 46,
   "metadata": {},
   "outputs": [
    {
     "name": "stdout",
     "output_type": "stream",
     "text": [
      "2049\n"
     ]
    }
   ],
   "source": []
  },
  {
   "cell_type": "code",
   "execution_count": 48,
   "metadata": {},
   "outputs": [
    {
     "data": {
      "text/plain": [
       "['2049', '2049', '2049', '2049']"
      ]
     },
     "execution_count": 48,
     "metadata": {},
     "output_type": "execute_result"
    }
   ],
   "source": [
    "for a in range(ano, 2050):\n",
    "    a = str(a)\n",
    "    posibles_quedadas = []\n",
    "    i = 0\n",
    "    while i < len(a):\n",
    "        if a[0] != a[1:]:  # no, solo estoy comparando el primer numero con los demás, los demas podrias ser iguales entre si, pruebo mas abajo con el count\n",
    "            posibles_quedadas.append(a)\n",
    "            i += 1\n",
    "\n",
    "posibles_quedadas"
   ]
  },
  {
   "cell_type": "code",
   "execution_count": null,
   "metadata": {},
   "outputs": [],
   "source": [
    "for a in range(ano, 2050):\n",
    "    a = str(a)\n",
    "    posibles_quedadas = []\n",
    "    i = 0\n",
    "    while i < len(a):\n",
    "        if a.count(a[:4]) == 1: # el count asi siempre devuelve 1\n",
    "            posibles_quedadas.append(a)\n",
    "            i += 1          \n",
    "print(posibles_quedadas[0])"
   ]
  },
  {
   "cell_type": "code",
   "execution_count": 54,
   "metadata": {},
   "outputs": [
    {
     "data": {
      "text/plain": [
       "1"
      ]
     },
     "execution_count": 54,
     "metadata": {},
     "output_type": "execute_result"
    }
   ],
   "source": [
    "h = '22222'\n",
    "h.count(h[:5])"
   ]
  },
  {
   "cell_type": "code",
   "execution_count": null,
   "metadata": {},
   "outputs": [],
   "source": [
    "hlist = []\n",
    "for num in h:\n",
    "    if h.count(num) == 1:\n",
    "        hlist.append(h)               # me acabo de acordar de los set!!!!, esos no dejan tener elementos duplicados"
   ]
  },
  {
   "cell_type": "code",
   "execution_count": 56,
   "metadata": {},
   "outputs": [
    {
     "data": {
      "text/plain": [
       "[{'0', '1', '2', '3'},\n",
       " {'0', '1', '2', '4'},\n",
       " {'0', '1', '2', '5'},\n",
       " {'0', '1', '2', '6'},\n",
       " {'0', '1', '2', '7'},\n",
       " {'0', '1', '2', '8'},\n",
       " {'0', '1', '2', '9'},\n",
       " {'0', '1', '2', '3'},\n",
       " {'0', '2', '3', '4'},\n",
       " {'0', '2', '3', '5'},\n",
       " {'0', '2', '3', '6'},\n",
       " {'0', '2', '3', '7'},\n",
       " {'0', '2', '3', '8'},\n",
       " {'0', '2', '3', '9'},\n",
       " {'0', '1', '2', '4'},\n",
       " {'0', '2', '3', '4'},\n",
       " {'0', '2', '4', '5'},\n",
       " {'0', '2', '4', '6'},\n",
       " {'0', '2', '4', '7'},\n",
       " {'0', '2', '4', '8'},\n",
       " {'0', '2', '4', '9'}]"
      ]
     },
     "execution_count": 56,
     "metadata": {},
     "output_type": "execute_result"
    }
   ],
   "source": [
    "posibles_quedadas = []            # problema 1: me lo devuelve en set\n",
    "for a in range(ano, 2050):         # problema 2: los sets no tienen orden, tengo que hacer un list del set(quizas)\n",
    "    a = set(str(a))                # posible problema: la lista de un set no tenga orden tampoco\n",
    "    if len(a) == 4:                 #problema 3: pasar de lista o set a string o int\n",
    "        posibles_quedadas.append(a)\n",
    "posibles_quedadas"
   ]
  },
  {
   "cell_type": "code",
   "execution_count": 55,
   "metadata": {},
   "outputs": [
    {
     "ename": "TypeError",
     "evalue": "'int' object is not iterable",
     "output_type": "error",
     "traceback": [
      "\u001b[0;31m---------------------------------------------------------------------------\u001b[0m",
      "\u001b[0;31mTypeError\u001b[0m                                 Traceback (most recent call last)",
      "\u001b[0;32m/tmp/ipykernel_6035/4115919814.py\u001b[0m in \u001b[0;36m<module>\u001b[0;34m\u001b[0m\n\u001b[1;32m      1\u001b[0m \u001b[0mj\u001b[0m \u001b[0;34m=\u001b[0m \u001b[0;36m2556\u001b[0m\u001b[0;34m\u001b[0m\u001b[0;34m\u001b[0m\u001b[0m\n\u001b[0;32m----> 2\u001b[0;31m \u001b[0mset\u001b[0m\u001b[0;34m(\u001b[0m\u001b[0mj\u001b[0m\u001b[0;34m)\u001b[0m\u001b[0;34m\u001b[0m\u001b[0;34m\u001b[0m\u001b[0m\n\u001b[0m",
      "\u001b[0;31mTypeError\u001b[0m: 'int' object is not iterable"
     ]
    }
   ],
   "source": [
    "j = 2556    # un set de un int no se puede hacer (comprobacion)\n",
    "set(j)\n"
   ]
  },
  {
   "cell_type": "code",
   "execution_count": null,
   "metadata": {},
   "outputs": [],
   "source": [
    "posibles_quedadas = []            \n",
    "for a in range(ano, 2050):         \n",
    "    a = list(set(str(a)))                \n",
    "    if len(a) == 4:                 \n",
    "        posibles_quedadas.append(a)\n",
    "posibles_quedadas"
   ]
  },
  {
   "cell_type": "code",
   "execution_count": 64,
   "metadata": {},
   "outputs": [
    {
     "name": "stdout",
     "output_type": "stream",
     "text": [
      "2049\n"
     ]
    }
   ],
   "source": [
    "posibles_quedadas = []            #¿por que me imprime solo el 2049???? Es un mensaje apocalíptico???\n",
    "ano = 2013      \n",
    "for a in range(ano, 2050):         \n",
    "    astr = str(a)\n",
    "print(astr)"
   ]
  },
  {
   "cell_type": "code",
   "execution_count": 4,
   "metadata": {},
   "outputs": [
    {
     "name": "stdout",
     "output_type": "stream",
     "text": [
      "['1', '9']\n"
     ]
    }
   ],
   "source": [
    "posibles_quedadas = []        \n",
    "ano = 8      \n",
    "for a in range(ano, 20):         \n",
    "    astr = str(a)\n",
    "    alist = list(astr)\n",
    "print(alist)                     # me vuelve a dar el ultimo numero del range, será por la indentación, entiendo que no me los coja todos, pero no se porqué si quiera coge uno"
   ]
  },
  {
   "cell_type": "code",
   "execution_count": 5,
   "metadata": {},
   "outputs": [
    {
     "name": "stdout",
     "output_type": "stream",
     "text": [
      "['8']\n",
      "['9']\n",
      "['1', '0']\n",
      "['1', '1']\n",
      "['1', '2']\n",
      "['1', '3']\n",
      "['1', '4']\n",
      "['1', '5']\n",
      "['1', '6']\n",
      "['1', '7']\n",
      "['1', '8']\n",
      "['1', '9']\n"
     ]
    }
   ],
   "source": [
    "posibles_quedadas = []          #vale, ya tengo una lista, si lo paso a set para comprobar repetidos, al menos puedo volver a su version ordenada\n",
    "ano = 8      \n",
    "for a in range(ano, 20):         \n",
    "    astr = str(a)\n",
    "    alist = list(astr)\n",
    "    print(alist)  "
   ]
  },
  {
   "cell_type": "code",
   "execution_count": 6,
   "metadata": {},
   "outputs": [
    {
     "name": "stdout",
     "output_type": "stream",
     "text": [
      "{'8'}\n",
      "{'9'}\n",
      "{'1', '0'}\n",
      "{'1'}\n",
      "{'1', '2'}\n",
      "{'1', '3'}\n",
      "{'1', '4'}\n",
      "{'1', '5'}\n",
      "{'1', '6'}\n",
      "{'7', '1'}\n",
      "{'1', '8'}\n",
      "{'1', '9'}\n"
     ]
    }
   ],
   "source": [
    "posibles_quedadas = []         \n",
    "ano = 8      \n",
    "for a in range(ano, 20):         \n",
    "    astr = str(a)\n",
    "    alist = list(astr)\n",
    "    aset = set(alist)\n",
    "    print(aset)            # yujuuuuuuuu!!!!"
   ]
  },
  {
   "cell_type": "code",
   "execution_count": 7,
   "metadata": {},
   "outputs": [
    {
     "data": {
      "text/plain": [
       "['2013',\n",
       " '2014',\n",
       " '2015',\n",
       " '2016',\n",
       " '2017',\n",
       " '2018',\n",
       " '2019',\n",
       " '2031',\n",
       " '2034',\n",
       " '2035',\n",
       " '2036',\n",
       " '2037',\n",
       " '2038',\n",
       " '2039',\n",
       " '2041',\n",
       " '2043',\n",
       " '2045',\n",
       " '2046',\n",
       " '2047',\n",
       " '2048',\n",
       " '2049']"
      ]
     },
     "execution_count": 7,
     "metadata": {},
     "output_type": "execute_result"
    }
   ],
   "source": [
    "posibles_quedadas = [] \n",
    "ano = 2013                          # problema 1: me lo devuelve en set   ---> resuelto\n",
    "for a in range(ano, 2050):         \n",
    "    astr = str(a)\n",
    "    alist = list(astr)      # ----> en realidad no necesito pasarlo a lista\n",
    "    aset = set(alist)                \n",
    "    if len(aset) == 4:                 #problema 3: pasar de lista o set a string o int ----> resuelto A UNIR CODIGO!\n",
    "        posibles_quedadas.append(astr)\n",
    "posibles_quedadas"
   ]
  },
  {
   "cell_type": "code",
   "execution_count": 8,
   "metadata": {},
   "outputs": [],
   "source": [
    "def busca_ano(ano):\n",
    "    if ano <= 0:\n",
    "        print('No puedes retroceder en el tiempo')\n",
    "        \n",
    "    else:\n",
    "        posibles_quedadas = [] \n",
    "                          \n",
    "        for a in range(ano, 2050):         \n",
    "            astr = str(a)\n",
    "            aset = set(alist)         # UPPPSSS ESTO ES UN FALLO          \n",
    "            if len(aset) == 4:                 \n",
    "                posibles_quedadas.append(astr)\n",
    "                quedada = posibles_quedadas[0]   # si selecciono el primer elemento, me va a dar el próximo año que veré a mi amigo        \n",
    "    return print(f'''El siguiente año que felicitarás a tu amigo será el {quedada}. \n",
    "Por que es el siguiente año en el que no hay ninguún dígito repetido.''' )         "
   ]
  },
  {
   "cell_type": "code",
   "execution_count": 9,
   "metadata": {},
   "outputs": [
    {
     "name": "stdout",
     "output_type": "stream",
     "text": [
      "El siguiente año que felicitarás a tu amigo será el 2013. \n",
      "Por que es el siguiente año en el que no hay ninguún dígito repetido.\n"
     ]
    }
   ],
   "source": [
    "# PRRRRROBAMOSSSSS\n",
    "\n",
    "busca_ano(2013)  #arrr, el range tiene que coger al menos el siguiente al que le das"
   ]
  },
  {
   "cell_type": "code",
   "execution_count": 23,
   "metadata": {},
   "outputs": [],
   "source": [
    "def busca_ano(ano):\n",
    "    if ano <= 0:\n",
    "        print('No puedes retroceder en el tiempo')\n",
    "        \n",
    "    else:\n",
    "        posibles_quedadas = [] \n",
    "                          \n",
    "        for a in range((ano+1), 9999):  #le sumo uno al inicio del range  y amplio el range a 9999     \n",
    "            astr = str(a)\n",
    "            aset = set(astr)             #cambio lo del set(alist), pues alist no existe  \n",
    "            if len(aset) == 4:                 \n",
    "                posibles_quedadas.append(astr)\n",
    "                quedada = posibles_quedadas[0] \n",
    "    return print(f'''El siguiente año que felicitarás a tu amigo será el {quedada}. \n",
    "Por que es el siguiente año en el que no hay ninguún dígito repetido.''' )         "
   ]
  },
  {
   "cell_type": "code",
   "execution_count": null,
   "metadata": {},
   "outputs": [],
   "source": [
    "#tambien\n",
    "#while len(set(str(año))) <4:\n",
    "    #año += 1\n",
    "#return año"
   ]
  },
  {
   "cell_type": "code",
   "execution_count": 11,
   "metadata": {},
   "outputs": [
    {
     "name": "stdout",
     "output_type": "stream",
     "text": [
      "El siguiente año que felicitarás a tu amigo será el 2014. \n",
      "Por que es el siguiente año en el que no hay ninguún dígito repetido.\n"
     ]
    }
   ],
   "source": [
    "# de nuevo!\n",
    "busca_ano(2013)"
   ]
  },
  {
   "cell_type": "code",
   "execution_count": 14,
   "metadata": {},
   "outputs": [
    {
     "name": "stdout",
     "output_type": "stream",
     "text": [
      "El siguiente año que felicitarás a tu amigo será el 7801. \n",
      "Por que es el siguiente año en el que no hay ninguún dígito repetido.\n"
     ]
    }
   ],
   "source": [
    "busca_ano(7712)"
   ]
  },
  {
   "cell_type": "code",
   "execution_count": 15,
   "metadata": {},
   "outputs": [
    {
     "name": "stdout",
     "output_type": "stream",
     "text": [
      "El siguiente año que felicitarás a tu amigo será el 1023. \n",
      "Por que es el siguiente año en el que no hay ninguún dígito repetido.\n"
     ]
    }
   ],
   "source": [
    "busca_ano(1001)"
   ]
  },
  {
   "cell_type": "code",
   "execution_count": 16,
   "metadata": {},
   "outputs": [
    {
     "name": "stdout",
     "output_type": "stream",
     "text": [
      "El siguiente año que felicitarás a tu amigo será el 1203. \n",
      "Por que es el siguiente año en el que no hay ninguún dígito repetido.\n"
     ]
    }
   ],
   "source": [
    "busca_ano(1123)"
   ]
  },
  {
   "cell_type": "code",
   "execution_count": 21,
   "metadata": {},
   "outputs": [
    {
     "name": "stdout",
     "output_type": "stream",
     "text": [
      "El siguiente año que felicitarás a tu amigo será el 2013. \n",
      "Por que es el siguiente año en el que no hay ninguún dígito repetido.\n"
     ]
    }
   ],
   "source": [
    "busca_ano(2001)"
   ]
  },
  {
   "cell_type": "code",
   "execution_count": 20,
   "metadata": {},
   "outputs": [
    {
     "name": "stdout",
     "output_type": "stream",
     "text": [
      "No puedes retroceder en el tiempo\n"
     ]
    },
    {
     "ename": "UnboundLocalError",
     "evalue": "local variable 'quedada' referenced before assignment",
     "output_type": "error",
     "traceback": [
      "\u001b[0;31m---------------------------------------------------------------------------\u001b[0m",
      "\u001b[0;31mUnboundLocalError\u001b[0m                         Traceback (most recent call last)",
      "\u001b[0;32m/tmp/ipykernel_6095/3703634905.py\u001b[0m in \u001b[0;36m<module>\u001b[0;34m\u001b[0m\n\u001b[0;32m----> 1\u001b[0;31m \u001b[0mbusca_ano\u001b[0m\u001b[0;34m(\u001b[0m\u001b[0;34m-\u001b[0m\u001b[0;36m1000\u001b[0m\u001b[0;34m)\u001b[0m\u001b[0;34m\u001b[0m\u001b[0;34m\u001b[0m\u001b[0m\n\u001b[0m",
      "\u001b[0;32m/tmp/ipykernel_6095/1161721327.py\u001b[0m in \u001b[0;36mbusca_ano\u001b[0;34m(ano)\u001b[0m\n\u001b[1;32m     13\u001b[0m                 \u001b[0mposibles_quedadas\u001b[0m\u001b[0;34m.\u001b[0m\u001b[0mappend\u001b[0m\u001b[0;34m(\u001b[0m\u001b[0mastr\u001b[0m\u001b[0;34m)\u001b[0m\u001b[0;34m\u001b[0m\u001b[0;34m\u001b[0m\u001b[0m\n\u001b[1;32m     14\u001b[0m                 \u001b[0mquedada\u001b[0m \u001b[0;34m=\u001b[0m \u001b[0mposibles_quedadas\u001b[0m\u001b[0;34m[\u001b[0m\u001b[0;36m0\u001b[0m\u001b[0;34m]\u001b[0m\u001b[0;34m\u001b[0m\u001b[0;34m\u001b[0m\u001b[0m\n\u001b[0;32m---> 15\u001b[0;31m     return print(f'''El siguiente año que felicitarás a tu amigo será el {quedada}. \n\u001b[0m\u001b[1;32m     16\u001b[0m Por que es el siguiente año en el que no hay ninguún dígito repetido.''' )         \n",
      "\u001b[0;31mUnboundLocalError\u001b[0m: local variable 'quedada' referenced before assignment"
     ]
    }
   ],
   "source": [
    "busca_ano(-1000)    #hmmm ¿como hacer para que no salga error?"
   ]
  },
  {
   "cell_type": "markdown",
   "metadata": {},
   "source": [
    "## YUJUUUUUUUUU!!!!!!!!!"
   ]
  },
  {
   "cell_type": "code",
   "execution_count": 1,
   "metadata": {},
   "outputs": [],
   "source": [
    "contenido = 10 #ml\n",
    "evap_dia = 10 #porciento\n",
    "umbral = 5 #porciento"
   ]
  },
  {
   "cell_type": "code",
   "execution_count": 2,
   "metadata": {},
   "outputs": [],
   "source": [
    "dias = 0 #contador"
   ]
  },
  {
   "cell_type": "code",
   "execution_count": 3,
   "metadata": {},
   "outputs": [
    {
     "data": {
      "text/plain": [
       "0.5"
      ]
     },
     "execution_count": 3,
     "metadata": {},
     "output_type": "execute_result"
    }
   ],
   "source": [
    " #umbral * contenido/ 100\n",
    "umbral_ml = (contenido*umbral)/100\n",
    "umbral_ml                          "
   ]
  },
  {
   "cell_type": "code",
   "execution_count": null,
   "metadata": {},
   "outputs": [],
   "source": [
    "# mientras que el contenido sea mayour a mi umbral, va a funcionar\n",
    "while contenido >= umbral_ml:\n",
    "    contenido -= (contenido * evap_dia)/100   #primero compruebo que hay suficiente para evaporar, luego sumo un día\n",
    "    dias +=1"
   ]
  },
  {
   "cell_type": "code",
   "execution_count": null,
   "metadata": {},
   "outputs": [],
   "source": [
    "#no negativos\n",
    "#la division entre si mismo  y 1 da resto 0\n",
    "#Si lo divido entre algun numero menor y el resto es 0, es que no es un numero primo\n",
    "numero = 3\n",
    "def es_primo(numero):\n",
    "    if numero <= 0:\n",
    "        return print('El numero no es primo')\n",
    "    elif numero == 1:\n",
    "        return print('El numero no es primo')\n",
    "    else:\n",
    "        for i in range(1,numero):\n",
    "            if numero % i == 0:\n",
    "                return print('El numero no es primo')\n",
    "            else:\n",
    "                return print('El numero es primo')\n"
   ]
  }
 ],
 "metadata": {
  "kernelspec": {
   "display_name": "Python 3.9.7 ('base')",
   "language": "python",
   "name": "python3"
  },
  "language_info": {
   "codemirror_mode": {
    "name": "ipython",
    "version": 3
   },
   "file_extension": ".py",
   "mimetype": "text/x-python",
   "name": "python",
   "nbconvert_exporter": "python",
   "pygments_lexer": "ipython3",
   "version": "3.9.7"
  },
  "orig_nbformat": 4,
  "vscode": {
   "interpreter": {
    "hash": "6be5d780ee9b0e6fe20ff9090f4981b24f52f07297829e94136e87c5137905e3"
   }
  }
 },
 "nbformat": 4,
 "nbformat_minor": 2
}
