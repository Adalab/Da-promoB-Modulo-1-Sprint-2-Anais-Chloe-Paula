{
 "cells": [
  {
   "cell_type": "markdown",
   "metadata": {},
   "source": [
    "# Ejercicio\n",
    "Definid una clase que se llame Empleados\n",
    "\n",
    "Definid los siguientes atributos que caracterizan a nuestros empleados:\n",
    "- nombre\n",
    "- apellido\n",
    "- edad\n",
    "- posición que ocupa en la empresa\n",
    "- año en que entró en la empresa\n",
    "- número de días de vacaciones que tiene\n",
    "- Las herramientas que usa cada uno de ellos, por ejemplo, Outlook, excel y word. Deberá ser una lista.\n",
    "\n",
    "Cread una instancia para la clase creada\n",
    "Definid los siguientes métodos:\n",
    "- descripción\n",
    "- calculo_vacaciones\n",
    "- cambiando_posicion\n",
    "\n",
    "--> Tips en el enunciado de gitbook"
   ]
  },
  {
   "cell_type": "code",
   "execution_count": 17,
   "metadata": {},
   "outputs": [],
   "source": [
    "# Por algun motivo si solo ponemos > tambien lo toma como >= y le dice que ha disfrutado de más días de los que le corresponden, eso nooooo puede ser!\n",
    "class Empleados():\n",
    "    def __init__(self, nombre, apellido, edad, puesto, incorporacion, vacaciones, herramientas):\n",
    "        self.nombre = nombre \n",
    "        self.apellido = apellido\n",
    "        self.edad = edad\n",
    "        self.puesto = puesto\n",
    "        self.incorporacion = incorporacion\n",
    "        self.vacaciones = vacaciones\n",
    "        self.herramientas = herramientas\n",
    "\n",
    "    def descripcion(self):\n",
    "        return print(f'El/ella es {self.nombre} {self.apellido}, es {self.puesto} en la empresa desde {self.incorporacion}. Además este año le quedan {self.vacaciones} días de vacaciones.')\n",
    "\n",
    "    def calculo_vacaciones(self):\n",
    "        dias_disfrutados = int(input('¿Cuantos días de vacaciones has disfrutado?'))\n",
    "        self.vacaciones -= dias_disfrutados                                                 \n",
    "\n",
    "        if self.vacaciones == 0:\n",
    "            return print('No te quedan vacaciones')\n",
    "        elif (dias_disfrutados + 1) > self.vacaciones:          #\n",
    "            return print('Has disfrutado de más días de los que tenías disponibles, habla con la empresa.')\n",
    "        else:\n",
    "            return print(f'Te quedan {self.vacaciones} días de vacaciones.')\n",
    "    \n",
    "    def cambiando_posicion(self, puesto_actual):\n",
    "        if self.puesto != puesto_actual:\n",
    "            return print(f'{self.nombre} ahora es {puesto_actual}.')\n",
    "\n",
    "    def uso_herramientas(self):\n",
    "        for h in self.herramientas:\n",
    "            if h.title() == 'Python':\n",
    "                return print('¡Bien hecho!')\n",
    "            elif h.title() == 'Excel':\n",
    "                return print('Es hora de dejar Excel y empezar a usar Python')\n",
    "            \n",
    "        "
   ]
  },
  {
   "cell_type": "code",
   "execution_count": 18,
   "metadata": {},
   "outputs": [],
   "source": [
    "sara = Empleados('Sara', 'Martinez', 30, 'Administrativa', 2015, 22, ['Excel'])"
   ]
  },
  {
   "cell_type": "code",
   "execution_count": 6,
   "metadata": {},
   "outputs": [
    {
     "name": "stdout",
     "output_type": "stream",
     "text": [
      "El/ella es Sara Martinez, es Administrativa en la empresa desde 2015. Además este año le quedan 22 días de vacaciones.\n"
     ]
    }
   ],
   "source": [
    "sara.descripcion()"
   ]
  },
  {
   "cell_type": "code",
   "execution_count": 7,
   "metadata": {},
   "outputs": [
    {
     "name": "stdout",
     "output_type": "stream",
     "text": [
      "Te quedan 12 días de vacaciones.\n"
     ]
    }
   ],
   "source": [
    "sara.calculo_vacaciones()"
   ]
  },
  {
   "cell_type": "code",
   "execution_count": 8,
   "metadata": {},
   "outputs": [
    {
     "name": "stdout",
     "output_type": "stream",
     "text": [
      "El/ella es Sara Martinez, es Administrativa en la empresa desde 2015. Además este año le quedan 12 días de vacaciones.\n"
     ]
    }
   ],
   "source": [
    "sara.descripcion()  "
   ]
  },
  {
   "cell_type": "code",
   "execution_count": 9,
   "metadata": {},
   "outputs": [
    {
     "name": "stdout",
     "output_type": "stream",
     "text": [
      "No te quedan vacaciones\n"
     ]
    }
   ],
   "source": [
    "sara.calculo_vacaciones()"
   ]
  },
  {
   "cell_type": "code",
   "execution_count": 10,
   "metadata": {},
   "outputs": [
    {
     "name": "stdout",
     "output_type": "stream",
     "text": [
      "Has disfrutado de más días de los que tenías disponibles, habla con la empresa.\n"
     ]
    }
   ],
   "source": [
    "sara.calculo_vacaciones()"
   ]
  },
  {
   "cell_type": "code",
   "execution_count": 14,
   "metadata": {},
   "outputs": [
    {
     "name": "stdout",
     "output_type": "stream",
     "text": [
      "Sara ahora es Data Analyst.\n"
     ]
    }
   ],
   "source": [
    "sara.cambiando_posicion('Data Analyst')"
   ]
  },
  {
   "cell_type": "code",
   "execution_count": 19,
   "metadata": {},
   "outputs": [
    {
     "name": "stdout",
     "output_type": "stream",
     "text": [
      "Es hora de dejar Excel y empezar a usar Python\n"
     ]
    }
   ],
   "source": [
    "sara.uso_herramientas()"
   ]
  }
 ],
 "metadata": {
  "kernelspec": {
   "display_name": "Python 3.9.7 ('base')",
   "language": "python",
   "name": "python3"
  },
  "language_info": {
   "codemirror_mode": {
    "name": "ipython",
    "version": 3
   },
   "file_extension": ".py",
   "mimetype": "text/x-python",
   "name": "python",
   "nbconvert_exporter": "python",
   "pygments_lexer": "ipython3",
   "version": "3.9.7"
  },
  "orig_nbformat": 4,
  "vscode": {
   "interpreter": {
    "hash": "6be5d780ee9b0e6fe20ff9090f4981b24f52f07297829e94136e87c5137905e3"
   }
  }
 },
 "nbformat": 4,
 "nbformat_minor": 2
}
